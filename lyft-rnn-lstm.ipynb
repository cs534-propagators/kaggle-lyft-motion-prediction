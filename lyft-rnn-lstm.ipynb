{
 "cells": [
  {
   "cell_type": "code",
   "execution_count": 1,
   "metadata": {
    "_cell_guid": "b1076dfc-b9ad-4769-8c92-a6c4dae69d19",
    "_uuid": "8f2839f25d086af736a60e9eeb907d3b93b6e0e5",
    "execution": {
     "iopub.execute_input": "2020-10-11T01:41:30.467054Z",
     "iopub.status.busy": "2020-10-11T01:41:30.465909Z",
     "iopub.status.idle": "2020-10-11T01:41:36.044664Z",
     "shell.execute_reply": "2020-10-11T01:41:36.043821Z"
    },
    "papermill": {
     "duration": 5.617786,
     "end_time": "2020-10-11T01:41:36.044827",
     "exception": false,
     "start_time": "2020-10-11T01:41:30.427041",
     "status": "completed"
    },
    "tags": []
   },
   "outputs": [
    {
     "data": {
      "text/html": [
       "        <script type=\"text/javascript\">\n",
       "        window.PlotlyConfig = {MathJaxConfig: 'local'};\n",
       "        if (window.MathJax) {MathJax.Hub.Config({SVG: {font: \"STIX-Web\"}});}\n",
       "        if (typeof require !== 'undefined') {\n",
       "        require.undef(\"plotly\");\n",
       "        requirejs.config({\n",
       "            paths: {\n",
       "                'plotly': ['https://cdn.plot.ly/plotly-latest.min']\n",
       "            }\n",
       "        });\n",
       "        require(['plotly'], function(Plotly) {\n",
       "            window._Plotly = Plotly;\n",
       "        });\n",
       "        }\n",
       "        </script>\n",
       "        "
      ]
     },
     "metadata": {},
     "output_type": "display_data"
    }
   ],
   "source": [
    "import gc\n",
    "import os\n",
    "from pathlib import Path\n",
    "import random\n",
    "import sys\n",
    "\n",
    "from tqdm.notebook import tqdm\n",
    "import numpy as np\n",
    "import pandas as pd\n",
    "import scipy as sp\n",
    "\n",
    "\n",
    "import matplotlib.pyplot as plt\n",
    "import seaborn as sns\n",
    "\n",
    "from IPython.core.display import display, HTML\n",
    "\n",
    "# --- plotly ---\n",
    "from plotly import tools, subplots\n",
    "import plotly.offline as py\n",
    "py.init_notebook_mode(connected=True)\n",
    "import plotly.graph_objs as go\n",
    "import plotly.express as px\n",
    "import plotly.figure_factory as ff\n",
    "import plotly.io as pio\n",
    "pio.templates.default = \"plotly_dark\"\n",
    "\n",
    "# --- models ---\n",
    "from sklearn import preprocessing\n",
    "from sklearn.model_selection import KFold\n",
    "import lightgbm as lgb\n",
    "import xgboost as xgb\n",
    "import catboost as cb\n",
    "\n",
    "# --- setup ---\n",
    "pd.set_option('max_columns', 50)"
   ]
  },
  {
   "cell_type": "code",
   "execution_count": 2,
   "metadata": {
    "_cell_guid": "79c7e3d0-c299-4dcb-8224-4455121ee9b0",
    "_uuid": "d629ff2d2480ee46fbb7e2d37f6b5fab8052498a",
    "execution": {
     "iopub.execute_input": "2020-10-11T01:41:36.116658Z",
     "iopub.status.busy": "2020-10-11T01:41:36.109886Z",
     "iopub.status.idle": "2020-10-11T01:41:40.589595Z",
     "shell.execute_reply": "2020-10-11T01:41:40.588566Z"
    },
    "papermill": {
     "duration": 4.516824,
     "end_time": "2020-10-11T01:41:40.589786",
     "exception": false,
     "start_time": "2020-10-11T01:41:36.072962",
     "status": "completed"
    },
    "tags": []
   },
   "outputs": [
    {
     "name": "stdout",
     "output_type": "stream",
     "text": [
      "l5kit version: 1.1.0\n"
     ]
    }
   ],
   "source": [
    "import zarr\n",
    "\n",
    "import l5kit\n",
    "from l5kit.data import ChunkedDataset, LocalDataManager\n",
    "from l5kit.dataset import EgoDataset, AgentDataset\n",
    "\n",
    "from l5kit.rasterization import build_rasterizer\n",
    "from l5kit.configs import load_config_data\n",
    "from l5kit.visualization import draw_trajectory, TARGET_POINTS_COLOR\n",
    "from l5kit.geometry import transform_points\n",
    "from tqdm import tqdm\n",
    "from collections import Counter\n",
    "from l5kit.data import PERCEPTION_LABELS\n",
    "from prettytable import PrettyTable\n",
    "\n",
    "from matplotlib import animation, rc\n",
    "from IPython.display import HTML\n",
    "\n",
    "rc('animation', html='jshtml')\n",
    "print(\"l5kit version:\", l5kit.__version__)"
   ]
  },
  {
   "cell_type": "code",
   "execution_count": 3,
   "metadata": {
    "execution": {
     "iopub.execute_input": "2020-10-11T01:41:40.658195Z",
     "iopub.status.busy": "2020-10-11T01:41:40.657367Z",
     "iopub.status.idle": "2020-10-11T01:41:46.902338Z",
     "shell.execute_reply": "2020-10-11T01:41:46.901461Z"
    },
    "papermill": {
     "duration": 6.280759,
     "end_time": "2020-10-11T01:41:46.902500",
     "exception": false,
     "start_time": "2020-10-11T01:41:40.621741",
     "status": "completed"
    },
    "tags": []
   },
   "outputs": [],
   "source": [
    "# Importing the libraries\n",
    "import numpy as np\n",
    "import matplotlib.pyplot as plt\n",
    "plt.style.use('fivethirtyeight')\n",
    "import pandas as pd\n",
    "from sklearn.preprocessing import MinMaxScaler\n",
    "from keras.models import Sequential\n",
    "from keras.layers import Dense, LSTM, Dropout, GRU, Bidirectional\n",
    "from keras.optimizers import SGD\n",
    "import math\n",
    "from sklearn.metrics import mean_squared_error"
   ]
  },
  {
   "cell_type": "code",
   "execution_count": 4,
   "metadata": {
    "execution": {
     "iopub.execute_input": "2020-10-11T01:41:46.964020Z",
     "iopub.status.busy": "2020-10-11T01:41:46.963257Z",
     "iopub.status.idle": "2020-10-11T01:41:46.966728Z",
     "shell.execute_reply": "2020-10-11T01:41:46.967299Z"
    },
    "papermill": {
     "duration": 0.037045,
     "end_time": "2020-10-11T01:41:46.967499",
     "exception": false,
     "start_time": "2020-10-11T01:41:46.930454",
     "status": "completed"
    },
    "tags": []
   },
   "outputs": [],
   "source": [
    "import time\n",
    "from datetime import datetime"
   ]
  },
  {
   "cell_type": "code",
   "execution_count": 5,
   "metadata": {
    "execution": {
     "iopub.execute_input": "2020-10-11T01:41:47.029657Z",
     "iopub.status.busy": "2020-10-11T01:41:47.028707Z",
     "iopub.status.idle": "2020-10-11T01:41:47.032524Z",
     "shell.execute_reply": "2020-10-11T01:41:47.031725Z"
    },
    "papermill": {
     "duration": 0.037841,
     "end_time": "2020-10-11T01:41:47.032673",
     "exception": false,
     "start_time": "2020-10-11T01:41:46.994832",
     "status": "completed"
    },
    "tags": []
   },
   "outputs": [],
   "source": [
    "os.environ[\"L5KIT_DATA_FOLDER\"] = \"/kaggle/input/lyft-motion-prediction-autonomous-vehicles\""
   ]
  },
  {
   "cell_type": "code",
   "execution_count": 6,
   "metadata": {
    "execution": {
     "iopub.execute_input": "2020-10-11T01:41:47.095786Z",
     "iopub.status.busy": "2020-10-11T01:41:47.094948Z",
     "iopub.status.idle": "2020-10-11T01:41:47.154691Z",
     "shell.execute_reply": "2020-10-11T01:41:47.153650Z"
    },
    "papermill": {
     "duration": 0.094385,
     "end_time": "2020-10-11T01:41:47.154874",
     "exception": false,
     "start_time": "2020-10-11T01:41:47.060489",
     "status": "completed"
    },
    "tags": []
   },
   "outputs": [
    {
     "name": "stdout",
     "output_type": "stream",
     "text": [
      "+------------+------------+------------+---------------+-----------------+----------------------+----------------------+----------------------+---------------------+\n",
      "| Num Scenes | Num Frames | Num Agents | Num TR lights | Total Time (hr) | Avg Frames per Scene | Avg Agents per Frame | Avg Scene Time (sec) | Avg Frame frequency |\n",
      "+------------+------------+------------+---------------+-----------------+----------------------+----------------------+----------------------+---------------------+\n",
      "|    100     |   24838    |  1893736   |     316008    |       0.69      |        248.38        |        76.24         |        24.83         |        10.00        |\n",
      "+------------+------------+------------+---------------+-----------------+----------------------+----------------------+----------------------+---------------------+\n"
     ]
    }
   ],
   "source": [
    "dm = LocalDataManager()\n",
    "dataset_path = dm.require('scenes/sample.zarr')\n",
    "zarr_dataset = ChunkedDataset(dataset_path)\n",
    "zarr_dataset.open()\n",
    "print(zarr_dataset)"
   ]
  },
  {
   "cell_type": "code",
   "execution_count": 7,
   "metadata": {
    "execution": {
     "iopub.execute_input": "2020-10-11T01:41:47.228857Z",
     "iopub.status.busy": "2020-10-11T01:41:47.227812Z",
     "iopub.status.idle": "2020-10-11T01:41:47.231922Z",
     "shell.execute_reply": "2020-10-11T01:41:47.231196Z"
    },
    "papermill": {
     "duration": 0.048306,
     "end_time": "2020-10-11T01:41:47.232073",
     "exception": false,
     "start_time": "2020-10-11T01:41:47.183767",
     "status": "completed"
    },
    "tags": []
   },
   "outputs": [],
   "source": [
    "# helper to convert a timedelta to a string (dropping milliseconds)\n",
    "def deltaToString(delta):\n",
    "    timeObj = time.gmtime(delta.total_seconds())\n",
    "    return time.strftime('%H:%M:%S', timeObj)\n",
    "\n",
    "class ProgressBar:\n",
    "    \n",
    "    # constructor\n",
    "    #   maxIterations: maximum number of iterations\n",
    "    def __init__(self, maxIterations):\n",
    "        self.maxIterations = maxIterations\n",
    "        self.granularity = 100 # 1 whole percent\n",
    "    \n",
    "    # start the timer\n",
    "    def start(self):\n",
    "        self.start = datetime.now()\n",
    "    \n",
    "    # check the progress of the current iteration\n",
    "    #   # currentIteration: the current iteration we are on\n",
    "    def check(self, currentIteration, chunked=False):\n",
    "        if currentIteration % round(self.maxIterations / self.granularity) == 0 or chunked:\n",
    "            \n",
    "            percentage = round(currentIteration / (self.maxIterations - self.maxIterations / self.granularity) * 100)\n",
    "            \n",
    "            current = datetime.now()\n",
    "            \n",
    "            # time calculations\n",
    "            timeElapsed = (current - self.start)\n",
    "            timePerStep = timeElapsed / (currentIteration + 1)\n",
    "            totalEstimatedTime = timePerStep * self.maxIterations\n",
    "            timeRemaining = totalEstimatedTime - timeElapsed\n",
    "            \n",
    "            # string formatting\n",
    "            percentageStr = \"{:>3}%  \".format(percentage)\n",
    "            remainingStr = \"Remaining: {}  \".format(deltaToString(timeRemaining))\n",
    "            elapsedStr = \"Elapsed: {}  \".format(deltaToString(timeElapsed))\n",
    "            totalStr = \"Total: {}\\r\".format(deltaToString(totalEstimatedTime))\n",
    "            \n",
    "            print(percentageStr + remainingStr + elapsedStr + totalStr, end=\"\")"
   ]
  },
  {
   "cell_type": "code",
   "execution_count": 8,
   "metadata": {
    "execution": {
     "iopub.execute_input": "2020-10-11T01:41:47.301183Z",
     "iopub.status.busy": "2020-10-11T01:41:47.300105Z",
     "iopub.status.idle": "2020-10-11T01:41:47.304519Z",
     "shell.execute_reply": "2020-10-11T01:41:47.303561Z"
    },
    "papermill": {
     "duration": 0.043302,
     "end_time": "2020-10-11T01:41:47.304686",
     "exception": false,
     "start_time": "2020-10-11T01:41:47.261384",
     "status": "completed"
    },
    "tags": []
   },
   "outputs": [],
   "source": [
    "def getAgents(dataset, subsetPercent=1):\n",
    "\n",
    "    datasetLength = round(len(dataset) * subsetPercent)\n",
    "    pb = ProgressBar(datasetLength)\n",
    "    pb.start()\n",
    "\n",
    "    agents = []\n",
    "    for i in range(0, datasetLength):\n",
    "\n",
    "        agent = dataset[i]\n",
    "        track_id = agent[4]\n",
    "        \n",
    "        if track_id >= len(agents):\n",
    "            agents.append([])\n",
    "        \n",
    "        centroid = agent[0]\n",
    "        agents[int(track_id)-1].append(centroid)\n",
    "        pb.check(i)\n",
    "\n",
    "    return agents"
   ]
  },
  {
   "cell_type": "code",
   "execution_count": 9,
   "metadata": {
    "execution": {
     "iopub.execute_input": "2020-10-11T01:41:47.369614Z",
     "iopub.status.busy": "2020-10-11T01:41:47.368819Z",
     "iopub.status.idle": "2020-10-11T01:45:41.623018Z",
     "shell.execute_reply": "2020-10-11T01:45:41.622188Z"
    },
    "papermill": {
     "duration": 234.289831,
     "end_time": "2020-10-11T01:45:41.623175",
     "exception": false,
     "start_time": "2020-10-11T01:41:47.333344",
     "status": "completed"
    },
    "tags": []
   },
   "outputs": [
    {
     "name": "stdout",
     "output_type": "stream",
     "text": [
      "0.1\n",
      "100%  Remaining: 00:00:02  Elapsed: 00:03:51  Total: 00:03:54\r"
     ]
    }
   ],
   "source": [
    "subsetPercent = 1*10**-1 #1*10**-2\n",
    "print(subsetPercent)\n",
    "agents = getAgents(zarr_dataset.agents, subsetPercent)"
   ]
  },
  {
   "cell_type": "code",
   "execution_count": 10,
   "metadata": {
    "execution": {
     "iopub.execute_input": "2020-10-11T01:45:41.769793Z",
     "iopub.status.busy": "2020-10-11T01:45:41.768653Z",
     "iopub.status.idle": "2020-10-11T01:45:41.772309Z",
     "shell.execute_reply": "2020-10-11T01:45:41.771620Z"
    },
    "papermill": {
     "duration": 0.081508,
     "end_time": "2020-10-11T01:45:41.772440",
     "exception": false,
     "start_time": "2020-10-11T01:45:41.690932",
     "status": "completed"
    },
    "tags": []
   },
   "outputs": [],
   "source": [
    "def plotAgents(agents):\n",
    "    r = lambda: random.randint(0,255)\n",
    "    pb = ProgressBar(len(agents))\n",
    "    pb.start()\n",
    "    for i in range(0, len(agents)):\n",
    "        agent = agents[i]\n",
    "        centroid_x = []\n",
    "        centroid_y = []\n",
    "        for centroid in agent:\n",
    "            centroid_x.append(centroid[0])\n",
    "            centroid_y.append(centroid[1])\n",
    "        plt.plot(centroid_x, centroid_y, 'o', color='#%02X%02X%02X' % (r(),r(),r()))\n",
    "        pb.check(i)"
   ]
  },
  {
   "cell_type": "code",
   "execution_count": 11,
   "metadata": {
    "execution": {
     "iopub.execute_input": "2020-10-11T01:45:41.922850Z",
     "iopub.status.busy": "2020-10-11T01:45:41.921515Z",
     "iopub.status.idle": "2020-10-11T01:45:46.541536Z",
     "shell.execute_reply": "2020-10-11T01:45:46.542128Z"
    },
    "papermill": {
     "duration": 4.70222,
     "end_time": "2020-10-11T01:45:46.542330",
     "exception": false,
     "start_time": "2020-10-11T01:45:41.840110",
     "status": "completed"
    },
    "tags": []
   },
   "outputs": [
    {
     "name": "stdout",
     "output_type": "stream",
     "text": [
      "100%  Remaining: 00:00:00  Elapsed: 00:00:02  Total: 00:00:02\r"
     ]
    },
    {
     "data": {
      "image/png": "[encoded data removed]",
      "text/plain": [
       "<Figure size 432x288 with 1 Axes>"
      ]
     },
     "metadata": {},
     "output_type": "display_data"
    }
   ],
   "source": [
    "plotAgents(agents)"
   ]
  },
  {
   "cell_type": "code",
   "execution_count": 12,
   "metadata": {
    "execution": {
     "iopub.execute_input": "2020-10-11T01:45:46.705402Z",
     "iopub.status.busy": "2020-10-11T01:45:46.704330Z",
     "iopub.status.idle": "2020-10-11T01:45:46.707779Z",
     "shell.execute_reply": "2020-10-11T01:45:46.707033Z"
    },
    "papermill": {
     "duration": 0.090204,
     "end_time": "2020-10-11T01:45:46.707912",
     "exception": false,
     "start_time": "2020-10-11T01:45:46.617708",
     "status": "completed"
    },
    "tags": []
   },
   "outputs": [],
   "source": [
    "def printAgentsInfo(agents, limit):\n",
    "    print(\"len(agents)\", len(agents), \"\\n\")\n",
    "\n",
    "    agentCentroidLengths = []\n",
    "    agentsOverLimit = []\n",
    "    for agent in agents:\n",
    "        if len(agent) == 0:\n",
    "            #print(i)\n",
    "            continue\n",
    "        agentCentroidLengths.append(len(agent))\n",
    "        if len(agent) > limit:\n",
    "            agentsOverLimit.append(agent)\n",
    "\n",
    "    print(\"len(agentCentroidLengths)\",len(agentCentroidLengths), \"\\n\")\n",
    "\n",
    "    print(\"max\",np.max(agentCentroidLengths))\n",
    "    print(\"min\",np.min(agentCentroidLengths))\n",
    "    print(\"mean\",np.mean(agentCentroidLengths))\n",
    "    print(\"std\",np.std(agentCentroidLengths), \"\\n\")\n",
    "\n",
    "    print(\"agents with {}+ history\".format(limit),len(agentsOverLimit))\n",
    "    return agentsOverLimit"
   ]
  },
  {
   "cell_type": "code",
   "execution_count": 13,
   "metadata": {
    "execution": {
     "iopub.execute_input": "2020-10-11T01:45:46.865771Z",
     "iopub.status.busy": "2020-10-11T01:45:46.863310Z",
     "iopub.status.idle": "2020-10-11T01:45:46.871452Z",
     "shell.execute_reply": "2020-10-11T01:45:46.870329Z"
    },
    "papermill": {
     "duration": 0.089646,
     "end_time": "2020-10-11T01:45:46.871661",
     "exception": false,
     "start_time": "2020-10-11T01:45:46.782015",
     "status": "completed"
    },
    "tags": []
   },
   "outputs": [
    {
     "name": "stdout",
     "output_type": "stream",
     "text": [
      "len(agents) 1999 \n",
      "\n",
      "len(agentCentroidLengths) 1998 \n",
      "\n",
      "max 1777\n",
      "min 1\n",
      "mean 94.78178178178179\n",
      "std 124.77865258356093 \n",
      "\n",
      "agents with 10+ history 1746\n"
     ]
    }
   ],
   "source": [
    "limit = 10\n",
    "agentsOverLimit = printAgentsInfo(agents, limit)"
   ]
  },
  {
   "cell_type": "code",
   "execution_count": 14,
   "metadata": {
    "execution": {
     "iopub.execute_input": "2020-10-11T01:45:47.037223Z",
     "iopub.status.busy": "2020-10-11T01:45:47.036064Z",
     "iopub.status.idle": "2020-10-11T01:45:47.040166Z",
     "shell.execute_reply": "2020-10-11T01:45:47.039394Z"
    },
    "papermill": {
     "duration": 0.093279,
     "end_time": "2020-10-11T01:45:47.040341",
     "exception": false,
     "start_time": "2020-10-11T01:45:46.947062",
     "status": "completed"
    },
    "tags": []
   },
   "outputs": [],
   "source": [
    "def getTrainingSets(agents, limit):\n",
    "    allTrainingSets = []\n",
    "    totalNumberOfTrainingSets = 0\n",
    "    for agent in agentsOverLimit:\n",
    "        agentTrainingSets = []\n",
    "        for i in range(limit, len(agent)-1):\n",
    "            agentTrainingSet = []\n",
    "\n",
    "            start = i - limit\n",
    "            end = i\n",
    "            output = i + 1\n",
    "\n",
    "            agentTrainingSet.append(agent[start:end])\n",
    "            agentTrainingSet.append(agent[output])\n",
    "            agentTrainingSets.append(agentTrainingSet)\n",
    "\n",
    "            totalNumberOfTrainingSets = totalNumberOfTrainingSets + 1\n",
    "\n",
    "        allTrainingSets.append(agentTrainingSets)\n",
    "\n",
    "    print(\"len(allTrainingSets)\", len(allTrainingSets))\n",
    "    print(\"len(allTrainingSets[0])\",len(allTrainingSets[0]), \"\\n\")\n",
    "\n",
    "    print(\"len(agentsOverLimit)\",len(agentsOverLimit))\n",
    "    print(\"len(agentsOverLimit[0]) - limit - 1\",len(agentsOverLimit[0]) - limit - 1, \"\\n\")\n",
    "\n",
    "    print(\"totalNumberOfTrainingSets\",totalNumberOfTrainingSets)\n",
    "    return allTrainingSets"
   ]
  },
  {
   "cell_type": "code",
   "execution_count": 15,
   "metadata": {
    "execution": {
     "iopub.execute_input": "2020-10-11T01:45:47.221473Z",
     "iopub.status.busy": "2020-10-11T01:45:47.205632Z",
     "iopub.status.idle": "2020-10-11T01:45:48.085721Z",
     "shell.execute_reply": "2020-10-11T01:45:48.084899Z"
    },
    "papermill": {
     "duration": 0.970363,
     "end_time": "2020-10-11T01:45:48.085858",
     "exception": false,
     "start_time": "2020-10-11T01:45:47.115495",
     "status": "completed"
    },
    "tags": []
   },
   "outputs": [
    {
     "name": "stdout",
     "output_type": "stream",
     "text": [
      "len(allTrainingSets) 1746\n",
      "len(allTrainingSets[0]) 1766 \n",
      "\n",
      "len(agentsOverLimit) 1746\n",
      "len(agentsOverLimit[0]) - limit - 1 1766 \n",
      "\n",
      "totalNumberOfTrainingSets 168597\n"
     ]
    }
   ],
   "source": [
    "allTrainingSets = getTrainingSets(agentsOverLimit, limit)"
   ]
  },
  {
   "cell_type": "code",
   "execution_count": 16,
   "metadata": {
    "execution": {
     "iopub.execute_input": "2020-10-11T01:45:48.248813Z",
     "iopub.status.busy": "2020-10-11T01:45:48.247955Z",
     "iopub.status.idle": "2020-10-11T01:45:48.251852Z",
     "shell.execute_reply": "2020-10-11T01:45:48.251100Z"
    },
    "papermill": {
     "duration": 0.087957,
     "end_time": "2020-10-11T01:45:48.251976",
     "exception": false,
     "start_time": "2020-10-11T01:45:48.164019",
     "status": "completed"
    },
    "tags": []
   },
   "outputs": [],
   "source": [
    "def flattenTrainingSets(allTrainingSets):\n",
    "    allTrainingSetsFlattened_X = []\n",
    "    allTrainingSetsFlattened_Y = []\n",
    "    for allTrainingSet in allTrainingSets:\n",
    "        for trainingSet in allTrainingSet:\n",
    "            allTrainingSetsFlattened_X.append(trainingSet[0])\n",
    "            allTrainingSetsFlattened_Y.append(trainingSet[1])\n",
    "    print(\"len(allTrainingSetsFlattened_X)\", len(allTrainingSetsFlattened_X))\n",
    "    return allTrainingSetsFlattened_X, allTrainingSetsFlattened_Y"
   ]
  },
  {
   "cell_type": "code",
   "execution_count": 17,
   "metadata": {
    "execution": {
     "iopub.execute_input": "2020-10-11T01:45:48.435140Z",
     "iopub.status.busy": "2020-10-11T01:45:48.429831Z",
     "iopub.status.idle": "2020-10-11T01:45:48.520825Z",
     "shell.execute_reply": "2020-10-11T01:45:48.520022Z"
    },
    "papermill": {
     "duration": 0.192922,
     "end_time": "2020-10-11T01:45:48.520962",
     "exception": false,
     "start_time": "2020-10-11T01:45:48.328040",
     "status": "completed"
    },
    "tags": []
   },
   "outputs": [
    {
     "name": "stdout",
     "output_type": "stream",
     "text": [
      "len(allTrainingSetsFlattened_X) 168597\n"
     ]
    }
   ],
   "source": [
    "allTrainingSetsFlattened_X, allTrainingSetsFlattened_Y = flattenTrainingSets(allTrainingSets)"
   ]
  },
  {
   "cell_type": "code",
   "execution_count": 18,
   "metadata": {
    "execution": {
     "iopub.execute_input": "2020-10-11T01:45:48.698038Z",
     "iopub.status.busy": "2020-10-11T01:45:48.697193Z",
     "iopub.status.idle": "2020-10-11T01:45:48.700362Z",
     "shell.execute_reply": "2020-10-11T01:45:48.699754Z"
    },
    "papermill": {
     "duration": 0.102893,
     "end_time": "2020-10-11T01:45:48.700502",
     "exception": false,
     "start_time": "2020-10-11T01:45:48.597609",
     "status": "completed"
    },
    "tags": []
   },
   "outputs": [],
   "source": [
    "def reshapeFlattenedTrainingSets(allTrainingSetsFlattened_X, allTrainingSetsFlattened_Y):\n",
    "    length = len(allTrainingSetsFlattened_X)\n",
    "    depth = len(allTrainingSetsFlattened_X[0])\n",
    "    channels = len(allTrainingSetsFlattened_X[0][0])\n",
    "\n",
    "    print(\"length\", length)\n",
    "    print(\"depth\", depth)\n",
    "    print(\"channels\",channels)\n",
    "    print(\"length*depth*channels\",length*depth*channels)\n",
    "\n",
    "    allTrainingSetsFlattened_Input = np.reshape(allTrainingSetsFlattened_X, (length,depth,channels))\n",
    "    allTrainingSetsFlattened_Output = np.reshape(allTrainingSetsFlattened_Y, (length,1,channels))\n",
    "\n",
    "    print(allTrainingSetsFlattened_Input.shape[1])\n",
    "    print(allTrainingSetsFlattened_Input.shape[2])\n",
    "    \n",
    "    return allTrainingSetsFlattened_Input, allTrainingSetsFlattened_Output"
   ]
  },
  {
   "cell_type": "code",
   "execution_count": 19,
   "metadata": {
    "execution": {
     "iopub.execute_input": "2020-10-11T01:45:49.080218Z",
     "iopub.status.busy": "2020-10-11T01:45:48.862560Z",
     "iopub.status.idle": "2020-10-11T01:45:50.397950Z",
     "shell.execute_reply": "2020-10-11T01:45:50.397180Z"
    },
    "papermill": {
     "duration": 1.619991,
     "end_time": "2020-10-11T01:45:50.398098",
     "exception": false,
     "start_time": "2020-10-11T01:45:48.778107",
     "status": "completed"
    },
    "tags": []
   },
   "outputs": [
    {
     "name": "stdout",
     "output_type": "stream",
     "text": [
      "length 168597\n",
      "depth 10\n",
      "channels 2\n",
      "length*depth*channels 3371940\n",
      "10\n",
      "2\n"
     ]
    }
   ],
   "source": [
    "allTrainingSetsFlattened_Input, allTrainingSetsFlattened_Output = reshapeFlattenedTrainingSets(allTrainingSetsFlattened_X, allTrainingSetsFlattened_Y)"
   ]
  },
  {
   "cell_type": "code",
   "execution_count": 20,
   "metadata": {
    "execution": {
     "iopub.execute_input": "2020-10-11T01:45:50.572531Z",
     "iopub.status.busy": "2020-10-11T01:45:50.571661Z",
     "iopub.status.idle": "2020-10-11T01:45:51.931754Z",
     "shell.execute_reply": "2020-10-11T01:45:51.930891Z"
    },
    "papermill": {
     "duration": 1.453207,
     "end_time": "2020-10-11T01:45:51.931905",
     "exception": false,
     "start_time": "2020-10-11T01:45:50.478698",
     "status": "completed"
    },
    "tags": []
   },
   "outputs": [],
   "source": [
    "# The LSTM architecture\n",
    "regressor = Sequential()\n",
    "# First LSTM layer with Dropout regularisation\n",
    "regressor.add(LSTM(units=50, return_sequences=True, input_shape=(allTrainingSetsFlattened_Input.shape[1],allTrainingSetsFlattened_Input.shape[2])))\n",
    "regressor.add(Dropout(0.2))\n",
    "# Second LSTM layer\n",
    "regressor.add(LSTM(units=50, return_sequences=True))\n",
    "regressor.add(Dropout(0.2))\n",
    "# Third LSTM layer\n",
    "regressor.add(LSTM(units=50, return_sequences=True))\n",
    "regressor.add(Dropout(0.2))\n",
    "# Fourth LSTM layer\n",
    "regressor.add(LSTM(units=50))\n",
    "regressor.add(Dropout(0.2))\n",
    "# The output layer\n",
    "regressor.add(Dense(units=2))\n",
    "\n",
    "# Compiling the RNN\n",
    "regressor.compile(optimizer='rmsprop',loss='mean_squared_error')"
   ]
  },
  {
   "cell_type": "code",
   "execution_count": 21,
   "metadata": {
    "execution": {
     "iopub.execute_input": "2020-10-11T01:45:52.103285Z",
     "iopub.status.busy": "2020-10-11T01:45:52.102210Z",
     "iopub.status.idle": "2020-10-11T01:51:48.967283Z",
     "shell.execute_reply": "2020-10-11T01:51:48.967894Z"
    },
    "papermill": {
     "duration": 356.952991,
     "end_time": "2020-10-11T01:51:48.968065",
     "exception": false,
     "start_time": "2020-10-11T01:45:52.015074",
     "status": "completed"
    },
    "tags": []
   },
   "outputs": [
    {
     "name": "stdout",
     "output_type": "stream",
     "text": [
      "Epoch 1/2\n",
      "5269/5269 [==============================] - 174s 33ms/step - loss: 606748.3750\n",
      "Epoch 2/2\n",
      "5269/5269 [==============================] - 175s 33ms/step - loss: 315591.1562\n"
     ]
    },
    {
     "data": {
      "text/plain": [
       "<tensorflow.python.keras.callbacks.History at 0x7f11c2e60a90>"
      ]
     },
     "execution_count": 21,
     "metadata": {},
     "output_type": "execute_result"
    }
   ],
   "source": [
    "# Fitting to the training set\n",
    "regressor.fit(allTrainingSetsFlattened_Input,allTrainingSetsFlattened_Output,epochs=2,batch_size=32)"
   ]
  },
  {
   "cell_type": "code",
   "execution_count": 22,
   "metadata": {
    "execution": {
     "iopub.execute_input": "2020-10-11T01:51:53.447487Z",
     "iopub.status.busy": "2020-10-11T01:51:53.446723Z",
     "iopub.status.idle": "2020-10-11T01:51:54.573414Z",
     "shell.execute_reply": "2020-10-11T01:51:54.572448Z"
    },
    "papermill": {
     "duration": 3.338591,
     "end_time": "2020-10-11T01:51:54.573583",
     "exception": false,
     "start_time": "2020-10-11T01:51:51.234992",
     "status": "completed"
    },
    "tags": []
   },
   "outputs": [
    {
     "name": "stdout",
     "output_type": "stream",
     "text": [
      "+------------+------------+------------+---------------+-----------------+----------------------+----------------------+----------------------+---------------------+\n",
      "| Num Scenes | Num Frames | Num Agents | Num TR lights | Total Time (hr) | Avg Frames per Scene | Avg Agents per Frame | Avg Scene Time (sec) | Avg Frame frequency |\n",
      "+------------+------------+------------+---------------+-----------------+----------------------+----------------------+----------------------+---------------------+\n",
      "|   11314    |  1131400   |  88594921  |    7854144    |      31.43      |        100.00        |        78.31         |        10.00         |        10.00        |\n",
      "+------------+------------+------------+---------------+-----------------+----------------------+----------------------+----------------------+---------------------+\n"
     ]
    }
   ],
   "source": [
    "dataset_path_test = dm.require('scenes/test.zarr')\n",
    "zarr_dataset_test = ChunkedDataset(dataset_path_test)\n",
    "zarr_dataset_test.open()\n",
    "print(zarr_dataset_test)"
   ]
  },
  {
   "cell_type": "code",
   "execution_count": 23,
   "metadata": {
    "execution": {
     "iopub.execute_input": "2020-10-11T01:51:59.051811Z",
     "iopub.status.busy": "2020-10-11T01:51:59.050897Z",
     "iopub.status.idle": "2020-10-11T01:51:59.055373Z",
     "shell.execute_reply": "2020-10-11T01:51:59.054628Z"
    },
    "papermill": {
     "duration": 2.265762,
     "end_time": "2020-10-11T01:51:59.055509",
     "exception": false,
     "start_time": "2020-10-11T01:51:56.789747",
     "status": "completed"
    },
    "tags": []
   },
   "outputs": [
    {
     "name": "stdout",
     "output_type": "stream",
     "text": [
      "88594921\n"
     ]
    }
   ],
   "source": [
    "print(len(zarr_dataset_test.agents))"
   ]
  },
  {
   "cell_type": "code",
   "execution_count": 24,
   "metadata": {
    "execution": {
     "iopub.execute_input": "2020-10-11T01:52:03.461673Z",
     "iopub.status.busy": "2020-10-11T01:52:03.460761Z",
     "iopub.status.idle": "2020-10-11T01:53:51.490616Z",
     "shell.execute_reply": "2020-10-11T01:53:51.489479Z"
    },
    "papermill": {
     "duration": 110.212789,
     "end_time": "2020-10-11T01:53:51.490771",
     "exception": false,
     "start_time": "2020-10-11T01:52:01.277982",
     "status": "completed"
    },
    "tags": []
   },
   "outputs": [
    {
     "name": "stdout",
     "output_type": "stream",
     "text": [
      "0.001\n",
      "100%  Remaining: 00:00:01  Elapsed: 00:01:46  Total: 00:01:48\r"
     ]
    }
   ],
   "source": [
    "subsetPercent = 1*10**-3\n",
    "print(subsetPercent)\n",
    "agentsTest = getAgents(zarr_dataset_test.agents, subsetPercent)"
   ]
  },
  {
   "cell_type": "code",
   "execution_count": 25,
   "metadata": {
    "execution": {
     "iopub.execute_input": "2020-10-11T01:53:56.128393Z",
     "iopub.status.busy": "2020-10-11T01:53:56.127266Z",
     "iopub.status.idle": "2020-10-11T01:54:00.621330Z",
     "shell.execute_reply": "2020-10-11T01:54:00.621927Z"
    },
    "papermill": {
     "duration": 6.880617,
     "end_time": "2020-10-11T01:54:00.622112",
     "exception": false,
     "start_time": "2020-10-11T01:53:53.741495",
     "status": "completed"
    },
    "tags": []
   },
   "outputs": [
    {
     "name": "stdout",
     "output_type": "stream",
     "text": [
      "100%  Remaining: 00:00:00  Elapsed: 00:00:02  Total: 00:00:02\r"
     ]
    },
    {
     "data": {
      "image/png": "[encoded data removed]",
      "text/plain": [
       "<Figure size 432x288 with 1 Axes>"
      ]
     },
     "metadata": {},
     "output_type": "display_data"
    }
   ],
   "source": [
    "plotAgents(agents)"
   ]
  },
  {
   "cell_type": "code",
   "execution_count": 26,
   "metadata": {
    "execution": {
     "iopub.execute_input": "2020-10-11T01:54:05.139499Z",
     "iopub.status.busy": "2020-10-11T01:54:05.138139Z",
     "iopub.status.idle": "2020-10-11T01:54:05.144125Z",
     "shell.execute_reply": "2020-10-11T01:54:05.146841Z"
    },
    "papermill": {
     "duration": 2.289477,
     "end_time": "2020-10-11T01:54:05.147088",
     "exception": false,
     "start_time": "2020-10-11T01:54:02.857611",
     "status": "completed"
    },
    "tags": []
   },
   "outputs": [
    {
     "name": "stdout",
     "output_type": "stream",
     "text": [
      "len(agents) 849 \n",
      "\n",
      "len(agentCentroidLengths) 848 \n",
      "\n",
      "max 1071\n",
      "min 1\n",
      "mean 104.4752358490566\n",
      "std 128.82190005548995 \n",
      "\n",
      "agents with 10+ history 741\n"
     ]
    }
   ],
   "source": [
    "agentsTestOverLimit = printAgentsInfo(agentsTest, limit)"
   ]
  },
  {
   "cell_type": "code",
   "execution_count": 27,
   "metadata": {
    "execution": {
     "iopub.execute_input": "2020-10-11T01:54:10.072468Z",
     "iopub.status.busy": "2020-10-11T01:54:10.071621Z",
     "iopub.status.idle": "2020-10-11T01:54:10.865848Z",
     "shell.execute_reply": "2020-10-11T01:54:10.869695Z"
    },
    "papermill": {
     "duration": 3.503861,
     "end_time": "2020-10-11T01:54:10.869933",
     "exception": false,
     "start_time": "2020-10-11T01:54:07.366072",
     "status": "completed"
    },
    "tags": []
   },
   "outputs": [
    {
     "name": "stdout",
     "output_type": "stream",
     "text": [
      "len(allTrainingSets) 1746\n",
      "len(allTrainingSets[0]) 1766 \n",
      "\n",
      "len(agentsOverLimit) 1746\n",
      "len(agentsOverLimit[0]) - limit - 1 1766 \n",
      "\n",
      "totalNumberOfTrainingSets 168597\n"
     ]
    }
   ],
   "source": [
    "allTestingSets = getTrainingSets(agentsTestOverLimit, limit)"
   ]
  },
  {
   "cell_type": "code",
   "execution_count": 28,
   "metadata": {
    "execution": {
     "iopub.execute_input": "2020-10-11T01:54:15.395726Z",
     "iopub.status.busy": "2020-10-11T01:54:15.380041Z",
     "iopub.status.idle": "2020-10-11T01:54:15.480714Z",
     "shell.execute_reply": "2020-10-11T01:54:15.479733Z"
    },
    "papermill": {
     "duration": 2.384902,
     "end_time": "2020-10-11T01:54:15.480896",
     "exception": false,
     "start_time": "2020-10-11T01:54:13.095994",
     "status": "completed"
    },
    "tags": []
   },
   "outputs": [
    {
     "name": "stdout",
     "output_type": "stream",
     "text": [
      "len(allTrainingSetsFlattened_X) 168597\n"
     ]
    }
   ],
   "source": [
    "allTestingSetsFlattened_X, allTestingSetsFlattened_Y = flattenTrainingSets(allTestingSets)"
   ]
  },
  {
   "cell_type": "code",
   "execution_count": 29,
   "metadata": {
    "execution": {
     "iopub.execute_input": "2020-10-11T01:54:20.191352Z",
     "iopub.status.busy": "2020-10-11T01:54:20.190303Z",
     "iopub.status.idle": "2020-10-11T01:54:21.447117Z",
     "shell.execute_reply": "2020-10-11T01:54:21.446320Z"
    },
    "papermill": {
     "duration": 3.727906,
     "end_time": "2020-10-11T01:54:21.447290",
     "exception": false,
     "start_time": "2020-10-11T01:54:17.719384",
     "status": "completed"
    },
    "tags": []
   },
   "outputs": [
    {
     "name": "stdout",
     "output_type": "stream",
     "text": [
      "length 168597\n",
      "depth 10\n",
      "channels 2\n",
      "length*depth*channels 3371940\n",
      "10\n",
      "2\n"
     ]
    }
   ],
   "source": [
    "allTestingSetsFlattened_Input, allTestingSetsFlattened_Output = reshapeFlattenedTrainingSets(allTestingSetsFlattened_X, allTestingSetsFlattened_Y)"
   ]
  },
  {
   "cell_type": "code",
   "execution_count": 30,
   "metadata": {
    "execution": {
     "iopub.execute_input": "2020-10-11T01:54:26.035812Z",
     "iopub.status.busy": "2020-10-11T01:54:26.034722Z",
     "iopub.status.idle": "2020-10-11T01:56:32.151291Z",
     "shell.execute_reply": "2020-10-11T01:56:32.149994Z"
    },
    "papermill": {
     "duration": 128.465167,
     "end_time": "2020-10-11T01:56:32.151493",
     "exception": false,
     "start_time": "2020-10-11T01:54:23.686326",
     "status": "completed"
    },
    "tags": []
   },
   "outputs": [
    {
     "name": "stdout",
     "output_type": "stream",
     "text": [
      "168597\n",
      "101%  Remaining: 00:00:00  Elapsed: 00:02:06  Total: 00:02:06\r"
     ]
    }
   ],
   "source": [
    "max = len(allTestingSetsFlattened_Input)\n",
    "print(max)\n",
    "chunkSize = 100\n",
    "pb = ProgressBar(max)\n",
    "pb.start()\n",
    "predictedTestAgentCentroid = [[0,0]]\n",
    "for i in range(0, max-chunkSize, chunkSize):#len(zarr_dataset.agents)):\n",
    "    newPredictions = regressor.predict(allTestingSetsFlattened_Input[i:i+chunkSize])\n",
    "    predictedTestAgentCentroid = np.concatenate((predictedTestAgentCentroid, newPredictions))\n",
    "    pb.check(i, True)\n"
   ]
  },
  {
   "cell_type": "code",
   "execution_count": 31,
   "metadata": {
    "execution": {
     "iopub.execute_input": "2020-10-11T01:56:37.507461Z",
     "iopub.status.busy": "2020-10-11T01:56:37.506418Z",
     "iopub.status.idle": "2020-10-11T01:56:37.510553Z",
     "shell.execute_reply": "2020-10-11T01:56:37.511321Z"
    },
    "papermill": {
     "duration": 2.545611,
     "end_time": "2020-10-11T01:56:37.511506",
     "exception": false,
     "start_time": "2020-10-11T01:56:34.965895",
     "status": "completed"
    },
    "tags": []
   },
   "outputs": [
    {
     "name": "stdout",
     "output_type": "stream",
     "text": [
      "168501\n",
      "168500\n"
     ]
    }
   ],
   "source": [
    "print(len(predictedTestAgentCentroid))\n",
    "predictedTestAgentCentroid = predictedTestAgentCentroid[1:len(predictedTestAgentCentroid)]\n",
    "print(len(predictedTestAgentCentroid))"
   ]
  },
  {
   "cell_type": "code",
   "execution_count": 32,
   "metadata": {
    "execution": {
     "iopub.execute_input": "2020-10-11T01:56:42.436717Z",
     "iopub.status.busy": "2020-10-11T01:56:42.435637Z",
     "iopub.status.idle": "2020-10-11T01:56:42.446131Z",
     "shell.execute_reply": "2020-10-11T01:56:42.445441Z"
    },
    "papermill": {
     "duration": 2.478699,
     "end_time": "2020-10-11T01:56:42.446314",
     "exception": false,
     "start_time": "2020-10-11T01:56:39.967615",
     "status": "completed"
    },
    "tags": []
   },
   "outputs": [
    {
     "name": "stdout",
     "output_type": "stream",
     "text": [
      "[  670.90527344 -2198.28198242]\n",
      "[ 532.49139404 -540.03204346]\n",
      "[ 560.3762207  -788.05053711]\n",
      "[ 532.49139404 -540.03204346]\n",
      "[  678.73986816 -1337.59814453]\n",
      "[ 532.49139404 -540.03204346]\n",
      "[  676.85412598 -1329.1730957 ]\n",
      "[ 532.49139404 -540.03204346]\n",
      "[ 474.67593384 -902.40826416]\n",
      "[ 532.49139404 -540.03204346]\n",
      "[ 585.59216309 -694.45526123]\n",
      "[ 532.49139404 -540.03204346]\n",
      "[  357.41549683 -1079.41845703]\n",
      "[ 532.49139404 -540.03204346]\n",
      "[ 736.81530762 -542.50097656]\n",
      "[ 532.49139404 -540.03204346]\n",
      "[ 736.32263184 -571.19403076]\n",
      "[ 532.49139404 -540.03204346]\n",
      "[  763.92279053 -1987.4407959 ]\n",
      "[ 532.49139404 -540.03204346]\n"
     ]
    }
   ],
   "source": [
    "randomSamples = 10\n",
    "for i in range(0, len(predictedTestAgentCentroid), round(len(predictedTestAgentCentroid) / randomSamples)):\n",
    "    testSet = allTestingSetsFlattened_Input[i]\n",
    "    print(testSet[len(testSet) - 1])\n",
    "    print(predictedTestAgentCentroid[i])"
   ]
  },
  {
   "cell_type": "code",
   "execution_count": null,
   "metadata": {
    "papermill": {
     "duration": 2.498914,
     "end_time": "2020-10-11T01:56:47.429583",
     "exception": false,
     "start_time": "2020-10-11T01:56:44.930669",
     "status": "completed"
    },
    "tags": []
   },
   "outputs": [],
   "source": []
  }
 ],
 "metadata": {
  "kernelspec": {
   "display_name": "Python 3",
   "language": "python",
   "name": "python3"
  },
  "language_info": {
   "codemirror_mode": {
    "name": "ipython",
    "version": 3
   },
   "file_extension": ".py",
   "mimetype": "text/x-python",
   "name": "python",
   "nbconvert_exporter": "python",
   "pygments_lexer": "ipython3",
   "version": "3.7.6"
  },
  "papermill": {
   "duration": 925.789,
   "end_time": "2020-10-11T01:56:50.034432",
   "environment_variables": {},
   "exception": null,
   "input_path": "__notebook__.ipynb",
   "output_path": "__notebook__.ipynb",
   "parameters": {},
   "start_time": "2020-10-11T01:41:24.245432",
   "version": "2.1.0"
  }
 },
 "nbformat": 4,
 "nbformat_minor": 4
}
