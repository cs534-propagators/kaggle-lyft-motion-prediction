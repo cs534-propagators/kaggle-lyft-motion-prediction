{
 "cells": [
  {
   "cell_type": "code",
   "execution_count": 1,
   "metadata": {
    "_cell_guid": "b1076dfc-b9ad-4769-8c92-a6c4dae69d19",
    "_uuid": "8f2839f25d086af736a60e9eeb907d3b93b6e0e5",
    "execution": {
     "iopub.execute_input": "2020-10-13T11:30:13.439650Z",
     "iopub.status.busy": "2020-10-13T11:30:13.438708Z",
     "iopub.status.idle": "2020-10-13T11:30:20.054078Z",
     "shell.execute_reply": "2020-10-13T11:30:20.052760Z"
    },
    "papermill": {
     "duration": 6.654161,
     "end_time": "2020-10-13T11:30:20.054216",
     "exception": false,
     "start_time": "2020-10-13T11:30:13.400055",
     "status": "completed"
    },
    "tags": []
   },
   "outputs": [
    {
     "data": {
      "text/html": [
       "        <script type=\"text/javascript\">\n",
       "        window.PlotlyConfig = {MathJaxConfig: 'local'};\n",
       "        if (window.MathJax) {MathJax.Hub.Config({SVG: {font: \"STIX-Web\"}});}\n",
       "        if (typeof require !== 'undefined') {\n",
       "        require.undef(\"plotly\");\n",
       "        requirejs.config({\n",
       "            paths: {\n",
       "                'plotly': ['https://cdn.plot.ly/plotly-latest.min']\n",
       "            }\n",
       "        });\n",
       "        require(['plotly'], function(Plotly) {\n",
       "            window._Plotly = Plotly;\n",
       "        });\n",
       "        }\n",
       "        </script>\n",
       "        "
      ]
     },
     "metadata": {},
     "output_type": "display_data"
    }
   ],
   "source": [
    "import gc\n",
    "import os\n",
    "from pathlib import Path\n",
    "import random\n",
    "import sys\n",
    "\n",
    "from tqdm.notebook import tqdm\n",
    "import numpy as np\n",
    "import pandas as pd\n",
    "import scipy as sp\n",
    "\n",
    "\n",
    "import matplotlib.pyplot as plt\n",
    "import seaborn as sns\n",
    "\n",
    "from IPython.core.display import display, HTML\n",
    "\n",
    "# --- plotly ---\n",
    "from plotly import tools, subplots\n",
    "import plotly.offline as py\n",
    "py.init_notebook_mode(connected=True)\n",
    "import plotly.graph_objs as go\n",
    "import plotly.express as px\n",
    "import plotly.figure_factory as ff\n",
    "import plotly.io as pio\n",
    "pio.templates.default = \"plotly_dark\"\n",
    "\n",
    "# --- models ---\n",
    "from sklearn import preprocessing\n",
    "from sklearn.model_selection import KFold\n",
    "import lightgbm as lgb\n",
    "import xgboost as xgb\n",
    "import catboost as cb\n",
    "\n",
    "# --- setup ---\n",
    "pd.set_option('max_columns', 50)"
   ]
  },
  {
   "cell_type": "code",
   "execution_count": 2,
   "metadata": {
    "_cell_guid": "79c7e3d0-c299-4dcb-8224-4455121ee9b0",
    "_uuid": "d629ff2d2480ee46fbb7e2d37f6b5fab8052498a",
    "execution": {
     "iopub.execute_input": "2020-10-13T11:30:20.123636Z",
     "iopub.status.busy": "2020-10-13T11:30:20.122941Z",
     "iopub.status.idle": "2020-10-13T11:30:24.866359Z",
     "shell.execute_reply": "2020-10-13T11:30:24.867094Z"
    },
    "papermill": {
     "duration": 4.784361,
     "end_time": "2020-10-13T11:30:24.867288",
     "exception": false,
     "start_time": "2020-10-13T11:30:20.082927",
     "status": "completed"
    },
    "tags": []
   },
   "outputs": [
    {
     "name": "stdout",
     "output_type": "stream",
     "text": [
      "l5kit version: 1.1.0\n"
     ]
    }
   ],
   "source": [
    "import zarr\n",
    "\n",
    "import l5kit\n",
    "from l5kit.data import ChunkedDataset, LocalDataManager\n",
    "from l5kit.dataset import EgoDataset, AgentDataset\n",
    "\n",
    "from l5kit.rasterization import build_rasterizer\n",
    "from l5kit.configs import load_config_data\n",
    "from l5kit.visualization import draw_trajectory, TARGET_POINTS_COLOR\n",
    "from l5kit.geometry import transform_points\n",
    "from tqdm import tqdm\n",
    "from collections import Counter\n",
    "from l5kit.data import PERCEPTION_LABELS\n",
    "from prettytable import PrettyTable\n",
    "\n",
    "from matplotlib import animation, rc\n",
    "from IPython.display import HTML\n",
    "\n",
    "rc('animation', html='jshtml')\n",
    "print(\"l5kit version:\", l5kit.__version__)"
   ]
  },
  {
   "cell_type": "code",
   "execution_count": 3,
   "metadata": {
    "execution": {
     "iopub.execute_input": "2020-10-13T11:30:24.975231Z",
     "iopub.status.busy": "2020-10-13T11:30:24.974301Z",
     "iopub.status.idle": "2020-10-13T11:30:29.620113Z",
     "shell.execute_reply": "2020-10-13T11:30:29.618999Z"
    },
    "papermill": {
     "duration": 4.708269,
     "end_time": "2020-10-13T11:30:29.620249",
     "exception": false,
     "start_time": "2020-10-13T11:30:24.911980",
     "status": "completed"
    },
    "tags": []
   },
   "outputs": [],
   "source": [
    "# Importing the libraries\n",
    "import numpy as np\n",
    "import matplotlib.pyplot as plt\n",
    "plt.style.use('fivethirtyeight')\n",
    "import pandas as pd\n",
    "from sklearn.preprocessing import MinMaxScaler\n",
    "from keras.models import Sequential\n",
    "from keras.layers import Dense, LSTM, Dropout, GRU, Bidirectional\n",
    "from keras.optimizers import SGD\n",
    "import math\n",
    "from sklearn.metrics import mean_squared_error"
   ]
  },
  {
   "cell_type": "code",
   "execution_count": 4,
   "metadata": {
    "execution": {
     "iopub.execute_input": "2020-10-13T11:30:29.685531Z",
     "iopub.status.busy": "2020-10-13T11:30:29.684544Z",
     "iopub.status.idle": "2020-10-13T11:30:29.687050Z",
     "shell.execute_reply": "2020-10-13T11:30:29.687506Z"
    },
    "papermill": {
     "duration": 0.037273,
     "end_time": "2020-10-13T11:30:29.687631",
     "exception": false,
     "start_time": "2020-10-13T11:30:29.650358",
     "status": "completed"
    },
    "tags": []
   },
   "outputs": [],
   "source": [
    "import time\n",
    "from datetime import datetime"
   ]
  },
  {
   "cell_type": "code",
   "execution_count": 5,
   "metadata": {
    "execution": {
     "iopub.execute_input": "2020-10-13T11:30:29.754578Z",
     "iopub.status.busy": "2020-10-13T11:30:29.753890Z",
     "iopub.status.idle": "2020-10-13T11:30:29.757911Z",
     "shell.execute_reply": "2020-10-13T11:30:29.757440Z"
    },
    "papermill": {
     "duration": 0.038711,
     "end_time": "2020-10-13T11:30:29.758009",
     "exception": false,
     "start_time": "2020-10-13T11:30:29.719298",
     "status": "completed"
    },
    "tags": []
   },
   "outputs": [],
   "source": [
    "os.environ[\"L5KIT_DATA_FOLDER\"] = \"/kaggle/input/lyft-motion-prediction-autonomous-vehicles\""
   ]
  },
  {
   "cell_type": "code",
   "execution_count": 6,
   "metadata": {
    "execution": {
     "iopub.execute_input": "2020-10-13T11:30:29.825901Z",
     "iopub.status.busy": "2020-10-13T11:30:29.825220Z",
     "iopub.status.idle": "2020-10-13T11:30:29.905215Z",
     "shell.execute_reply": "2020-10-13T11:30:29.905807Z"
    },
    "papermill": {
     "duration": 0.116946,
     "end_time": "2020-10-13T11:30:29.905947",
     "exception": false,
     "start_time": "2020-10-13T11:30:29.789001",
     "status": "completed"
    },
    "tags": []
   },
   "outputs": [
    {
     "name": "stdout",
     "output_type": "stream",
     "text": [
      "+------------+------------+------------+---------------+-----------------+----------------------+----------------------+----------------------+---------------------+\n",
      "| Num Scenes | Num Frames | Num Agents | Num TR lights | Total Time (hr) | Avg Frames per Scene | Avg Agents per Frame | Avg Scene Time (sec) | Avg Frame frequency |\n",
      "+------------+------------+------------+---------------+-----------------+----------------------+----------------------+----------------------+---------------------+\n",
      "|    100     |   24838    |  1893736   |     316008    |       0.69      |        248.38        |        76.24         |        24.83         |        10.00        |\n",
      "+------------+------------+------------+---------------+-----------------+----------------------+----------------------+----------------------+---------------------+\n"
     ]
    }
   ],
   "source": [
    "dm = LocalDataManager()\n",
    "dataset_path = dm.require('scenes/sample.zarr')\n",
    "zarr_dataset = ChunkedDataset(dataset_path)\n",
    "zarr_dataset.open()\n",
    "print(zarr_dataset)"
   ]
  },
  {
   "cell_type": "code",
   "execution_count": 7,
   "metadata": {
    "execution": {
     "iopub.execute_input": "2020-10-13T11:30:29.978421Z",
     "iopub.status.busy": "2020-10-13T11:30:29.977663Z",
     "iopub.status.idle": "2020-10-13T11:30:29.989181Z",
     "shell.execute_reply": "2020-10-13T11:30:29.988657Z"
    },
    "papermill": {
     "duration": 0.049833,
     "end_time": "2020-10-13T11:30:29.989306",
     "exception": false,
     "start_time": "2020-10-13T11:30:29.939473",
     "status": "completed"
    },
    "tags": []
   },
   "outputs": [
    {
     "name": "stdout",
     "output_type": "stream",
     "text": [
      "<zarr.core.Array '/agents' (1893736,) [('centroid', '<f8', (2,)), ('extent', '<f4', (3,)), ('yaw', '<f4'), ('velocity', '<f4', (2,)), ('track_id', '<u8'), ('label_probabilities', '<f4', (17,))] read-only>\n",
      "(1893736,)\n"
     ]
    }
   ],
   "source": [
    "print(zarr_dataset.agents)\n",
    "print(zarr_dataset.agents.shape)\n",
    "n = zarr_dataset.agents.shape"
   ]
  },
  {
   "cell_type": "code",
   "execution_count": 8,
   "metadata": {
    "execution": {
     "iopub.execute_input": "2020-10-13T11:30:30.076250Z",
     "iopub.status.busy": "2020-10-13T11:30:30.075294Z",
     "iopub.status.idle": "2020-10-13T11:30:30.078888Z",
     "shell.execute_reply": "2020-10-13T11:30:30.078275Z"
    },
    "papermill": {
     "duration": 0.054899,
     "end_time": "2020-10-13T11:30:30.078991",
     "exception": false,
     "start_time": "2020-10-13T11:30:30.024092",
     "status": "completed"
    },
    "tags": []
   },
   "outputs": [],
   "source": [
    "# helper to convert a timedelta to a string (dropping milliseconds)\n",
    "def deltaToString(delta):\n",
    "    timeObj = time.gmtime(delta.total_seconds())\n",
    "    return time.strftime('%H:%M:%S', timeObj)\n",
    "\n",
    "class ProgressBar:\n",
    "    \n",
    "    # constructor\n",
    "    #   maxIterations: maximum number of iterations\n",
    "    def __init__(self, maxIterations):\n",
    "        self.maxIterations = maxIterations\n",
    "        self.granularity = 100 # 1 whole percent\n",
    "    \n",
    "    # start the timer\n",
    "    def start(self):\n",
    "        self.start = datetime.now()\n",
    "    \n",
    "    # check the progress of the current iteration\n",
    "    #   # currentIteration: the current iteration we are on\n",
    "    def check(self, currentIteration, chunked=False):\n",
    "        if currentIteration % round(self.maxIterations / self.granularity) == 0 or chunked:\n",
    "            \n",
    "            percentage = round(currentIteration / (self.maxIterations - self.maxIterations / self.granularity) * 100)\n",
    "            \n",
    "            current = datetime.now()\n",
    "            \n",
    "            # time calculations\n",
    "            timeElapsed = (current - self.start)\n",
    "            timePerStep = timeElapsed / (currentIteration + 1)\n",
    "            totalEstimatedTime = timePerStep * self.maxIterations\n",
    "            timeRemaining = totalEstimatedTime - timeElapsed\n",
    "            \n",
    "            # string formatting\n",
    "            percentageStr = \"{:>3}%  \".format(percentage)\n",
    "            remainingStr = \"Remaining: {}  \".format(deltaToString(timeRemaining))\n",
    "            elapsedStr = \"Elapsed: {}  \".format(deltaToString(timeElapsed))\n",
    "            totalStr = \"Total: {}\\r\".format(deltaToString(totalEstimatedTime))\n",
    "            \n",
    "            print(percentageStr + remainingStr + elapsedStr + totalStr, end=\"\")\n",
    "\n",
    "    def end(self):\n",
    "        print()"
   ]
  },
  {
   "cell_type": "code",
   "execution_count": 9,
   "metadata": {
    "execution": {
     "iopub.execute_input": "2020-10-13T11:30:30.162528Z",
     "iopub.status.busy": "2020-10-13T11:30:30.157524Z",
     "iopub.status.idle": "2020-10-13T11:30:30.165794Z",
     "shell.execute_reply": "2020-10-13T11:30:30.165074Z"
    },
    "papermill": {
     "duration": 0.051918,
     "end_time": "2020-10-13T11:30:30.165898",
     "exception": false,
     "start_time": "2020-10-13T11:30:30.113980",
     "status": "completed"
    },
    "tags": []
   },
   "outputs": [],
   "source": [
    "def getAgentsChunked(dataset, subsetPercent=1, chunks=10):\n",
    "\n",
    "    datasetLength = round(len(dataset) * subsetPercent)\n",
    "    chunkSize = round(datasetLength / chunks)\n",
    "    \n",
    "    pb = ProgressBar(datasetLength)\n",
    "    pb.start()\n",
    "\n",
    "    agents = []\n",
    "    for i in range(0, datasetLength, chunkSize):\n",
    "\n",
    "        agentsSubset = dataset[i:i+chunkSize]\n",
    "        for j in range(0,len(agentsSubset)):\n",
    "\n",
    "            agent = agentsSubset[j]\n",
    "            track_id = agent[4]\n",
    "\n",
    "            if track_id >= len(agents):\n",
    "                agents.append([])\n",
    "\n",
    "            data = []\n",
    "            centroid = agent[0]\n",
    "            yaw = agent[2]\n",
    "            velocity = agent[3]\n",
    "            data.append(centroid[0])\n",
    "            data.append(centroid[1])\n",
    "            data.append(yaw)\n",
    "            data.append(velocity[0])\n",
    "            data.append(velocity[1])\n",
    "            agents[int(track_id)-1].append(data)\n",
    "        pb.check(i, True)\n",
    "\n",
    "    return agents"
   ]
  },
  {
   "cell_type": "code",
   "execution_count": 10,
   "metadata": {
    "execution": {
     "iopub.execute_input": "2020-10-13T11:30:30.244568Z",
     "iopub.status.busy": "2020-10-13T11:30:30.243511Z",
     "iopub.status.idle": "2020-10-13T11:30:30.274868Z",
     "shell.execute_reply": "2020-10-13T11:30:30.272929Z"
    },
    "papermill": {
     "duration": 0.073431,
     "end_time": "2020-10-13T11:30:30.274978",
     "exception": false,
     "start_time": "2020-10-13T11:30:30.201547",
     "status": "completed"
    },
    "tags": []
   },
   "outputs": [
    {
     "name": "stdout",
     "output_type": "stream",
     "text": [
      "<zarr.core.Array '/agents' (1893736,) [('centroid', '<f8', (2,)), ('extent', '<f4', (3,)), ('yaw', '<f4'), ('velocity', '<f4', (2,)), ('track_id', '<u8'), ('label_probabilities', '<f4', (17,))] read-only> \n",
      "\n",
      "<class 'numpy.float64'>\n",
      "<class 'numpy.ndarray'>\n",
      "<class 'numpy.void'>\n",
      "<class 'zarr.core.Array'>\n",
      "<class 'list'>\n"
     ]
    }
   ],
   "source": [
    "print(zarr_dataset.agents, \"\\n\")\n",
    "print(type(zarr_dataset.agents[0][0][0]))\n",
    "print(type(zarr_dataset.agents[0][0]))\n",
    "print(type(zarr_dataset.agents[0]))\n",
    "print(type(zarr_dataset.agents))\n",
    "agents = []\n",
    "print(type(agents))"
   ]
  },
  {
   "cell_type": "code",
   "execution_count": 11,
   "metadata": {
    "execution": {
     "iopub.execute_input": "2020-10-13T11:30:30.355069Z",
     "iopub.status.busy": "2020-10-13T11:30:30.354009Z",
     "iopub.status.idle": "2020-10-13T11:30:54.204754Z",
     "shell.execute_reply": "2020-10-13T11:30:54.204246Z"
    },
    "papermill": {
     "duration": 23.892133,
     "end_time": "2020-10-13T11:30:54.204887",
     "exception": false,
     "start_time": "2020-10-13T11:30:30.312754",
     "status": "completed"
    },
    "tags": []
   },
   "outputs": [
    {
     "name": "stdout",
     "output_type": "stream",
     "text": [
      "1\n",
      "101%  Remaining: 00:00:00  Elapsed: 00:00:23  Total: 00:00:24\r"
     ]
    }
   ],
   "source": [
    "subsetPercent = 1 #1*10**-2\n",
    "print(subsetPercent)\n",
    "agents = getAgentsChunked(zarr_dataset.agents, subsetPercent, 100)"
   ]
  },
  {
   "cell_type": "code",
   "execution_count": 12,
   "metadata": {
    "execution": {
     "iopub.execute_input": "2020-10-13T11:30:54.362393Z",
     "iopub.status.busy": "2020-10-13T11:30:54.361744Z",
     "iopub.status.idle": "2020-10-13T11:30:54.365076Z",
     "shell.execute_reply": "2020-10-13T11:30:54.364618Z"
    },
    "papermill": {
     "duration": 0.085369,
     "end_time": "2020-10-13T11:30:54.365174",
     "exception": false,
     "start_time": "2020-10-13T11:30:54.279805",
     "status": "completed"
    },
    "tags": []
   },
   "outputs": [],
   "source": [
    "def plotAgents(agents):\n",
    "    r = lambda: random.randint(0,255)\n",
    "    pb = ProgressBar(len(agents))\n",
    "    pb.start()\n",
    "    for i in range(0, len(agents)):\n",
    "        agent = agents[i]\n",
    "        centroid_x = []\n",
    "        centroid_y = []\n",
    "        for centroid in agent:\n",
    "            centroid_x.append(centroid[0])\n",
    "            centroid_y.append(centroid[1])\n",
    "        plt.plot(centroid_x, centroid_y, 'o', color='#%02X%02X%02X' % (r(),r(),r()))\n",
    "        pb.check(i)"
   ]
  },
  {
   "cell_type": "code",
   "execution_count": 13,
   "metadata": {
    "execution": {
     "iopub.execute_input": "2020-10-13T11:30:54.561660Z",
     "iopub.status.busy": "2020-10-13T11:30:54.560631Z",
     "iopub.status.idle": "2020-10-13T11:31:05.593750Z",
     "shell.execute_reply": "2020-10-13T11:31:05.594233Z"
    },
    "papermill": {
     "duration": 11.137015,
     "end_time": "2020-10-13T11:31:05.594375",
     "exception": false,
     "start_time": "2020-10-13T11:30:54.457360",
     "status": "completed"
    },
    "tags": []
   },
   "outputs": [
    {
     "name": "stdout",
     "output_type": "stream",
     "text": [
      "100%  Remaining: 00:00:00  Elapsed: 00:00:04  Total: 00:00:04\r"
     ]
    },
    {
     "data": {
      "image/png": "[encoded data removed]",
      "text/plain": [
       "<Figure size 432x288 with 1 Axes>"
      ]
     },
     "metadata": {},
     "output_type": "display_data"
    }
   ],
   "source": [
    "plotAgents(agents)"
   ]
  },
  {
   "cell_type": "code",
   "execution_count": 14,
   "metadata": {
    "execution": {
     "iopub.execute_input": "2020-10-13T11:31:05.862567Z",
     "iopub.status.busy": "2020-10-13T11:31:05.860369Z",
     "iopub.status.idle": "2020-10-13T11:31:05.863371Z",
     "shell.execute_reply": "2020-10-13T11:31:05.863952Z"
    },
    "papermill": {
     "duration": 0.146806,
     "end_time": "2020-10-13T11:31:05.864106",
     "exception": false,
     "start_time": "2020-10-13T11:31:05.717300",
     "status": "completed"
    },
    "tags": []
   },
   "outputs": [],
   "source": [
    "def normalizeAgents(agents):\n",
    "    dataForNormalization = []\n",
    "    pb = ProgressBar(len(agents))\n",
    "    pb.start()\n",
    "    for agent in agents:\n",
    "        pb.check(0, True)\n",
    "        for data in agent:\n",
    "            for i in range(0, len(data)):\n",
    "                feature = data[i]\n",
    "                if i >= len(dataForNormalization):\n",
    "                    dataForNormalization.append([])\n",
    "                dataForNormalization[i].append(feature)\n",
    "        \n",
    "    \n",
    "    first = True\n",
    "    normalizedAgents = []\n",
    "    pb = ProgressBar(len(dataForNormalization) * len(agents))\n",
    "    pb.start()\n",
    "    for i in range(0, len(dataForNormalization)):\n",
    "        pb.end()\n",
    "        data = dataForNormalization[i]\n",
    "        mean = np.mean(data)\n",
    "        std = np.std(data)\n",
    "        print(\"max[{}]\".format(i),np.max(data))\n",
    "        print(\"min[{}]\".format(i),np.min(data))\n",
    "        print(\"mean[{}]\".format(i),mean)\n",
    "        print(\"std[{}]\".format(i),std, \"\\n\")\n",
    "        \n",
    "        for j in range(0, len(agents)):\n",
    "            pb.check(i * j)\n",
    "            if j >= len(normalizedAgents):\n",
    "                normalizedAgents.append([])\n",
    "                \n",
    "            agent = agents[j]\n",
    "            normalizedAgent = normalizedAgents[j]\n",
    "            \n",
    "            for k in range(0, len(agent)):\n",
    "                if k >= len(normalizedAgent):\n",
    "                    normalizedAgent.append([])\n",
    "                data = agent[k]\n",
    "                normalizedData = normalizedAgent[k]\n",
    "                \n",
    "                feature = data[i]\n",
    "                normalizedFeature = (feature - mean) / std\n",
    "                if i == 0 and first:\n",
    "                    print(feature)\n",
    "                    print(normalizedFeature)\n",
    "                    first = False\n",
    "                \n",
    "                if i >= len(normalizedData):\n",
    "                    normalizedData.append(0)\n",
    "                normalizedData[i] = normalizedFeature\n",
    "    return normalizedAgents"
   ]
  },
  {
   "cell_type": "code",
   "execution_count": 15,
   "metadata": {
    "execution": {
     "iopub.execute_input": "2020-10-13T11:31:06.110961Z",
     "iopub.status.busy": "2020-10-13T11:31:06.110078Z",
     "iopub.status.idle": "2020-10-13T11:31:06.112699Z",
     "shell.execute_reply": "2020-10-13T11:31:06.113314Z"
    },
    "papermill": {
     "duration": 0.12571,
     "end_time": "2020-10-13T11:31:06.113463",
     "exception": false,
     "start_time": "2020-10-13T11:31:05.987753",
     "status": "completed"
    },
    "tags": []
   },
   "outputs": [],
   "source": [
    "import copy"
   ]
  },
  {
   "cell_type": "code",
   "execution_count": 16,
   "metadata": {
    "execution": {
     "iopub.execute_input": "2020-10-13T11:31:06.342879Z",
     "iopub.status.busy": "2020-10-13T11:31:06.342074Z",
     "iopub.status.idle": "2020-10-13T11:31:51.589246Z",
     "shell.execute_reply": "2020-10-13T11:31:51.589786Z"
    },
    "papermill": {
     "duration": 45.362394,
     "end_time": "2020-10-13T11:31:51.589930",
     "exception": false,
     "start_time": "2020-10-13T11:31:06.227536",
     "status": "completed"
    },
    "tags": []
   },
   "outputs": [
    {
     "name": "stdout",
     "output_type": "stream",
     "text": [
      "  0%  Remaining: 06:45:16  Elapsed: 00:00:09  Total: 06:45:26\r\n",
      "max[0] 1179.1077880859375\n",
      "min[0] -1111.6240234375\n",
      "mean[0] 336.969584755944\n",
      "std[0] 538.2572525153931 \n",
      "\n",
      "665.0342407226562\n",
      "0.6094941673959706\n",
      "  0%  Remaining: 21:39:06  Elapsed: 00:00:12  Total: 21:39:19\r\n",
      "max[1] 1538.580078125\n",
      "min[1] -2527.596923828125\n",
      "mean[1] -510.9562909092913\n",
      "std[1] 976.0786362953986 \n",
      "\n",
      " 20%  Remaining: 00:01:16  Elapsed: 00:00:18  Total: 00:01:35\r\n",
      "max[2] 3.1415925\n",
      "min[2] -3.1415882\n",
      "mean[2] 0.597898\n",
      "std[2] 1.1705885 \n",
      "\n",
      " 40%  Remaining: 00:00:37  Elapsed: 00:00:24  Total: 00:01:02\r\n",
      "max[3] 24.13901\n",
      "min[3] -30.488567\n",
      "mean[3] -0.0077168085\n",
      "std[3] 2.2349012 \n",
      "\n",
      " 60%  Remaining: 00:00:20  Elapsed: 00:00:30  Total: 00:00:50\r\n",
      "max[4] 27.416363\n",
      "min[4] -25.589865\n",
      "mean[4] 0.012839541\n",
      "std[4] 2.4340515 \n",
      "\n",
      " 81%  Remaining: 00:00:09  Elapsed: 00:00:35  Total: 00:00:44\r"
     ]
    }
   ],
   "source": [
    "normalizedAgents = normalizeAgents(agents)"
   ]
  },
  {
   "cell_type": "code",
   "execution_count": 17,
   "metadata": {
    "execution": {
     "iopub.execute_input": "2020-10-13T11:31:55.901515Z",
     "iopub.status.busy": "2020-10-13T11:31:55.900527Z",
     "iopub.status.idle": "2020-10-13T11:31:55.927886Z",
     "shell.execute_reply": "2020-10-13T11:31:55.916609Z"
    },
    "papermill": {
     "duration": 2.310658,
     "end_time": "2020-10-13T11:31:55.928021",
     "exception": false,
     "start_time": "2020-10-13T11:31:53.617363",
     "status": "completed"
    },
    "tags": []
   },
   "outputs": [
    {
     "name": "stdout",
     "output_type": "stream",
     "text": [
      "2548\n",
      "2548 \n",
      "\n",
      "665.0342407226562\n",
      "0.6094941673959706 \n",
      "\n"
     ]
    }
   ],
   "source": [
    "print(len(agents))\n",
    "print(len(normalizedAgents),\"\\n\")\n",
    "\n",
    "print(agents[0][0][0])\n",
    "print(normalizedAgents[0][0][0],\"\\n\")"
   ]
  },
  {
   "cell_type": "code",
   "execution_count": 18,
   "metadata": {
    "execution": {
     "iopub.execute_input": "2020-10-13T11:32:00.116267Z",
     "iopub.status.busy": "2020-10-13T11:32:00.115124Z",
     "iopub.status.idle": "2020-10-13T11:32:00.117735Z",
     "shell.execute_reply": "2020-10-13T11:32:00.118420Z"
    },
    "papermill": {
     "duration": 2.035702,
     "end_time": "2020-10-13T11:32:00.118553",
     "exception": false,
     "start_time": "2020-10-13T11:31:58.082851",
     "status": "completed"
    },
    "tags": []
   },
   "outputs": [],
   "source": [
    "def printAgentsInfo(agents, limit):\n",
    "    print(\"len(agents)\", len(agents), \"\\n\")\n",
    "\n",
    "    agentCentroidLengths = []\n",
    "    agentsOverLimit = []\n",
    "    for agent in agents:\n",
    "        agentCentroidLengths.append(len(agent))\n",
    "        if len(agent) > limit:\n",
    "            agentsOverLimit.append(agent)\n",
    "\n",
    "    print(\"len(agentCentroidLengths)\",len(agentCentroidLengths), \"\\n\")\n",
    "\n",
    "    print(\"max\",np.max(agentCentroidLengths))\n",
    "    print(\"min\",np.min(agentCentroidLengths))\n",
    "    print(\"mean\",np.mean(agentCentroidLengths))\n",
    "    print(\"std\",np.std(agentCentroidLengths), \"\\n\")\n",
    "\n",
    "    print(\"agents with {}+ history\".format(limit),len(agentsOverLimit))\n",
    "    return agentsOverLimit"
   ]
  },
  {
   "cell_type": "code",
   "execution_count": 19,
   "metadata": {
    "execution": {
     "iopub.execute_input": "2020-10-13T11:32:04.593372Z",
     "iopub.status.busy": "2020-10-13T11:32:04.592215Z",
     "iopub.status.idle": "2020-10-13T11:32:04.654339Z",
     "shell.execute_reply": "2020-10-13T11:32:04.632548Z"
    },
    "papermill": {
     "duration": 2.309852,
     "end_time": "2020-10-13T11:32:04.654501",
     "exception": false,
     "start_time": "2020-10-13T11:32:02.344649",
     "status": "completed"
    },
    "tags": []
   },
   "outputs": [
    {
     "name": "stdout",
     "output_type": "stream",
     "text": [
      "len(agents) 2548 \n",
      "\n",
      "len(agentCentroidLengths) 2548 \n",
      "\n",
      "max 14922\n",
      "min 0\n",
      "mean 743.2244897959183\n",
      "std 942.0993728127904 \n",
      "\n",
      "agents with 10+ history 2269\n"
     ]
    }
   ],
   "source": [
    "limit = 10\n",
    "agentsOverLimit = printAgentsInfo(normalizedAgents, limit)"
   ]
  },
  {
   "cell_type": "code",
   "execution_count": 20,
   "metadata": {
    "execution": {
     "iopub.execute_input": "2020-10-13T11:32:09.080964Z",
     "iopub.status.busy": "2020-10-13T11:32:09.079999Z",
     "iopub.status.idle": "2020-10-13T11:32:09.083307Z",
     "shell.execute_reply": "2020-10-13T11:32:09.082810Z"
    },
    "papermill": {
     "duration": 2.164349,
     "end_time": "2020-10-13T11:32:09.083429",
     "exception": false,
     "start_time": "2020-10-13T11:32:06.919080",
     "status": "completed"
    },
    "tags": []
   },
   "outputs": [],
   "source": [
    "def getTrainingSets(agents, limit):\n",
    "    allTrainingSets = []\n",
    "    totalNumberOfTrainingSets = 0\n",
    "    \n",
    "    pb = ProgressBar(len(agentsOverLimit))\n",
    "    pb.start()\n",
    "    for i in range(0, len(agentsOverLimit)):\n",
    "        agent = agentsOverLimit[i]\n",
    "        agentTrainingSets = []\n",
    "        for i in range(limit, len(agent)-1):\n",
    "            agentTrainingSet = []\n",
    "\n",
    "            start = i - limit\n",
    "            end = i\n",
    "            output = i + 1\n",
    "\n",
    "            agentTrainingSet.append(agent[start:end])\n",
    "            agentTrainingSet.append(agent[output])\n",
    "            agentTrainingSets.append(agentTrainingSet)\n",
    "\n",
    "            totalNumberOfTrainingSets = totalNumberOfTrainingSets + 1\n",
    "\n",
    "        allTrainingSets.append(agentTrainingSets)\n",
    "        pb.check(i)\n",
    "\n",
    "    print(\"len(allTrainingSets)\", len(allTrainingSets))\n",
    "    print(\"len(allTrainingSets[0])\",len(allTrainingSets[0]), \"\\n\")\n",
    "\n",
    "    print(\"len(agentsOverLimit)\",len(agentsOverLimit))\n",
    "    print(\"len(agentsOverLimit[0]) - limit - 1\",len(agentsOverLimit[0]) - limit - 1, \"\\n\")\n",
    "\n",
    "    print(\"totalNumberOfTrainingSets\",totalNumberOfTrainingSets)\n",
    "    return allTrainingSets"
   ]
  },
  {
   "cell_type": "code",
   "execution_count": 21,
   "metadata": {
    "execution": {
     "iopub.execute_input": "2020-10-13T11:32:13.898214Z",
     "iopub.status.busy": "2020-10-13T11:32:13.893208Z",
     "iopub.status.idle": "2020-10-13T11:32:19.876889Z",
     "shell.execute_reply": "2020-10-13T11:32:19.855169Z"
    },
    "papermill": {
     "duration": 8.297431,
     "end_time": "2020-10-13T11:32:19.877056",
     "exception": false,
     "start_time": "2020-10-13T11:32:11.579625",
     "status": "completed"
    },
    "tags": []
   },
   "outputs": [
    {
     "name": "stdout",
     "output_type": "stream",
     "text": [
      "len(allTrainingSets) 2269\n",
      "len(allTrainingSets[0]) 14911 \n",
      "\n",
      "len(agentsOverLimit) 2269\n",
      "len(agentsOverLimit[0]) - limit - 1 14911 \n",
      "\n",
      "totalNumberOfTrainingSets 1867440\n"
     ]
    }
   ],
   "source": [
    "allTrainingSets = getTrainingSets(agentsOverLimit, limit)"
   ]
  },
  {
   "cell_type": "code",
   "execution_count": 22,
   "metadata": {
    "execution": {
     "iopub.execute_input": "2020-10-13T11:32:24.039249Z",
     "iopub.status.busy": "2020-10-13T11:32:24.037418Z",
     "iopub.status.idle": "2020-10-13T11:32:24.040001Z",
     "shell.execute_reply": "2020-10-13T11:32:24.040484Z"
    },
    "papermill": {
     "duration": 2.059632,
     "end_time": "2020-10-13T11:32:24.040609",
     "exception": false,
     "start_time": "2020-10-13T11:32:21.980977",
     "status": "completed"
    },
    "tags": []
   },
   "outputs": [],
   "source": [
    "def flattenTrainingSets(allTrainingSets):\n",
    "    allTrainingSetsFlattened_X = []\n",
    "    allTrainingSetsFlattened_Y = []\n",
    "    for allTrainingSet in allTrainingSets:\n",
    "        for trainingSet in allTrainingSet:\n",
    "            allTrainingSetsFlattened_X.append(trainingSet[0])\n",
    "            allTrainingSetsFlattened_Y.append(trainingSet[1])\n",
    "    print(\"len(allTrainingSetsFlattened_X)\", len(allTrainingSetsFlattened_X))\n",
    "    return allTrainingSetsFlattened_X, allTrainingSetsFlattened_Y"
   ]
  },
  {
   "cell_type": "code",
   "execution_count": 23,
   "metadata": {
    "execution": {
     "iopub.execute_input": "2020-10-13T11:32:28.153566Z",
     "iopub.status.busy": "2020-10-13T11:32:28.143354Z",
     "iopub.status.idle": "2020-10-13T11:32:28.798293Z",
     "shell.execute_reply": "2020-10-13T11:32:28.796938Z"
    },
    "papermill": {
     "duration": 2.691165,
     "end_time": "2020-10-13T11:32:28.798468",
     "exception": false,
     "start_time": "2020-10-13T11:32:26.107303",
     "status": "completed"
    },
    "tags": []
   },
   "outputs": [
    {
     "name": "stdout",
     "output_type": "stream",
     "text": [
      "len(allTrainingSetsFlattened_X) 1867440\n"
     ]
    }
   ],
   "source": [
    "allTrainingSetsFlattened_X, allTrainingSetsFlattened_Y = flattenTrainingSets(allTrainingSets)"
   ]
  },
  {
   "cell_type": "code",
   "execution_count": 24,
   "metadata": {
    "execution": {
     "iopub.execute_input": "2020-10-13T11:32:33.229875Z",
     "iopub.status.busy": "2020-10-13T11:32:33.228907Z",
     "iopub.status.idle": "2020-10-13T11:32:33.232401Z",
     "shell.execute_reply": "2020-10-13T11:32:33.231868Z"
    },
    "papermill": {
     "duration": 2.07865,
     "end_time": "2020-10-13T11:32:33.232510",
     "exception": false,
     "start_time": "2020-10-13T11:32:31.153860",
     "status": "completed"
    },
    "tags": []
   },
   "outputs": [],
   "source": [
    "def reshapeFlattenedTrainingSets(allTrainingSetsFlattened_X, allTrainingSetsFlattened_Y):\n",
    "    length = len(allTrainingSetsFlattened_X)\n",
    "    depth = len(allTrainingSetsFlattened_X[0])\n",
    "    channels = len(allTrainingSetsFlattened_X[0][0])\n",
    "\n",
    "    print(\"length\", length)\n",
    "    print(\"depth\", depth)\n",
    "    print(\"channels\",channels)\n",
    "    print(\"length*depth*channels\",length*depth*channels)\n",
    "\n",
    "    allTrainingSetsFlattened_Input = np.reshape(allTrainingSetsFlattened_X, (length,depth,channels))\n",
    "    allTrainingSetsFlattened_Output = np.reshape(allTrainingSetsFlattened_Y, (length,1,channels))\n",
    "\n",
    "    print(allTrainingSetsFlattened_Input.shape[1])\n",
    "    print(allTrainingSetsFlattened_Input.shape[2])\n",
    "    \n",
    "    return allTrainingSetsFlattened_Input, allTrainingSetsFlattened_Output"
   ]
  },
  {
   "cell_type": "code",
   "execution_count": 25,
   "metadata": {
    "execution": {
     "iopub.execute_input": "2020-10-13T11:32:37.770559Z",
     "iopub.status.busy": "2020-10-13T11:32:37.769515Z",
     "iopub.status.idle": "2020-10-13T11:32:37.771604Z",
     "shell.execute_reply": "2020-10-13T11:32:37.772155Z"
    },
    "papermill": {
     "duration": 2.060625,
     "end_time": "2020-10-13T11:32:37.772289",
     "exception": false,
     "start_time": "2020-10-13T11:32:35.711664",
     "status": "completed"
    },
    "tags": []
   },
   "outputs": [],
   "source": [
    "allTrainingSetsFlattened_Input = allTrainingSetsFlattened_X\n",
    "allTrainingSetsFlattened_Output = allTrainingSetsFlattened_Y"
   ]
  },
  {
   "cell_type": "code",
   "execution_count": 26,
   "metadata": {
    "execution": {
     "iopub.execute_input": "2020-10-13T11:32:42.317583Z",
     "iopub.status.busy": "2020-10-13T11:32:42.315981Z",
     "iopub.status.idle": "2020-10-13T11:33:38.131520Z",
     "shell.execute_reply": "2020-10-13T11:33:38.123820Z"
    },
    "papermill": {
     "duration": 58.00553,
     "end_time": "2020-10-13T11:33:38.131803",
     "exception": false,
     "start_time": "2020-10-13T11:32:40.126273",
     "status": "completed"
    },
    "tags": []
   },
   "outputs": [
    {
     "name": "stdout",
     "output_type": "stream",
     "text": [
      "length 1867440\n",
      "depth 10\n",
      "channels 5\n",
      "length*depth*channels 93372000\n",
      "10\n",
      "5\n"
     ]
    }
   ],
   "source": [
    "allTrainingSetsFlattened_Input, allTrainingSetsFlattened_Output = reshapeFlattenedTrainingSets(allTrainingSetsFlattened_X, allTrainingSetsFlattened_Y)"
   ]
  },
  {
   "cell_type": "code",
   "execution_count": 27,
   "metadata": {
    "execution": {
     "iopub.execute_input": "2020-10-13T11:33:42.520955Z",
     "iopub.status.busy": "2020-10-13T11:33:42.519872Z",
     "iopub.status.idle": "2020-10-13T11:33:51.605606Z",
     "shell.execute_reply": "2020-10-13T11:33:51.605046Z"
    },
    "papermill": {
     "duration": 11.198751,
     "end_time": "2020-10-13T11:33:51.605740",
     "exception": false,
     "start_time": "2020-10-13T11:33:40.406989",
     "status": "completed"
    },
    "tags": []
   },
   "outputs": [],
   "source": [
    "# The LSTM architecture\n",
    "regressor = Sequential()\n",
    "# First LSTM layer with Dropout regularisation\n",
    "regressor.add(LSTM(units=50, return_sequences=True, input_shape=(allTrainingSetsFlattened_Input.shape[1],allTrainingSetsFlattened_Input.shape[2])))\n",
    "regressor.add(Dropout(0.2))\n",
    "# Second LSTM layer\n",
    "regressor.add(LSTM(units=50, return_sequences=True))\n",
    "regressor.add(Dropout(0.2))\n",
    "# Third LSTM layer\n",
    "regressor.add(LSTM(units=50, return_sequences=True))\n",
    "regressor.add(Dropout(0.2))\n",
    "# Fourth LSTM layer\n",
    "regressor.add(LSTM(units=50))\n",
    "regressor.add(Dropout(0.2))\n",
    "# The output layer\n",
    "regressor.add(Dense(units=allTrainingSetsFlattened_Input.shape[2]))\n",
    "\n",
    "# Compiling the RNN\n",
    "regressor.compile(optimizer='rmsprop',loss='mean_squared_error')"
   ]
  },
  {
   "cell_type": "code",
   "execution_count": 28,
   "metadata": {
    "execution": {
     "iopub.execute_input": "2020-10-13T11:33:55.835219Z",
     "iopub.status.busy": "2020-10-13T11:33:55.833324Z",
     "iopub.status.idle": "2020-10-13T11:33:55.836036Z",
     "shell.execute_reply": "2020-10-13T11:33:55.836598Z"
    },
    "papermill": {
     "duration": 2.10843,
     "end_time": "2020-10-13T11:33:55.836736",
     "exception": false,
     "start_time": "2020-10-13T11:33:53.728306",
     "status": "completed"
    },
    "tags": []
   },
   "outputs": [],
   "source": [
    "from tensorflow import keras"
   ]
  },
  {
   "cell_type": "code",
   "execution_count": 29,
   "metadata": {
    "execution": {
     "iopub.execute_input": "2020-10-13T11:34:00.280977Z",
     "iopub.status.busy": "2020-10-13T11:34:00.280052Z",
     "iopub.status.idle": "2020-10-13T11:39:22.869691Z",
     "shell.execute_reply": "2020-10-13T11:39:22.870406Z"
    },
    "papermill": {
     "duration": 324.657038,
     "end_time": "2020-10-13T11:39:22.870567",
     "exception": false,
     "start_time": "2020-10-13T11:33:58.213529",
     "status": "completed"
    },
    "tags": []
   },
   "outputs": [
    {
     "name": "stdout",
     "output_type": "stream",
     "text": [
      "Epoch: 0             loss: 1.003911018371582\n",
      "Epoch: 0             loss: 1.003881812095642\n"
     ]
    },
    {
     "data": {
      "text/plain": [
       "<tensorflow.python.keras.callbacks.History at 0x7f28645d67d0>"
      ]
     },
     "execution_count": 29,
     "metadata": {},
     "output_type": "execute_result"
    }
   ],
   "source": [
    "# Fitting to the training set\n",
    "\n",
    "class CustomCallback(keras.callbacks.Callback):\n",
    "    \n",
    "    def __init__(self):\n",
    "        self.epoch = 0\n",
    "        \n",
    "    def on_epoch_end(self, epoch, logs=None):\n",
    "        keys = list(logs.keys())\n",
    "        print(\"Epoch: {}             loss: {}\\n\".format(self.epoch, logs['loss']), end=\"\")\n",
    "        self.epoch = epoch\n",
    "\n",
    "    def on_train_batch_end(self, batch, logs=None):\n",
    "        keys = list(logs.keys())\n",
    "        if batch % 100 == 0:\n",
    "            print(\"Epoch: {} batchs: {}% loss: {}\\r\".format(self.epoch, round(batch / self.params['steps'] * 100), logs['loss']), end=\"\")\n",
    "\n",
    "regressor.fit(allTrainingSetsFlattened_Input,allTrainingSetsFlattened_Output,epochs=2,batch_size=128,verbose=0,callbacks=[CustomCallback()])"
   ]
  },
  {
   "cell_type": "code",
   "execution_count": 30,
   "metadata": {
    "execution": {
     "iopub.execute_input": "2020-10-13T11:39:27.522884Z",
     "iopub.status.busy": "2020-10-13T11:39:27.521995Z",
     "iopub.status.idle": "2020-10-13T11:39:28.583360Z",
     "shell.execute_reply": "2020-10-13T11:39:28.583899Z"
    },
    "papermill": {
     "duration": 3.522648,
     "end_time": "2020-10-13T11:39:28.584042",
     "exception": false,
     "start_time": "2020-10-13T11:39:25.061394",
     "status": "completed"
    },
    "tags": []
   },
   "outputs": [
    {
     "name": "stdout",
     "output_type": "stream",
     "text": [
      "+------------+------------+------------+---------------+-----------------+----------------------+----------------------+----------------------+---------------------+\n",
      "| Num Scenes | Num Frames | Num Agents | Num TR lights | Total Time (hr) | Avg Frames per Scene | Avg Agents per Frame | Avg Scene Time (sec) | Avg Frame frequency |\n",
      "+------------+------------+------------+---------------+-----------------+----------------------+----------------------+----------------------+---------------------+\n",
      "|   11314    |  1131400   |  88594921  |    7854144    |      31.43      |        100.00        |        78.31         |        10.00         |        10.00        |\n",
      "+------------+------------+------------+---------------+-----------------+----------------------+----------------------+----------------------+---------------------+\n"
     ]
    }
   ],
   "source": [
    "dataset_path_test = dm.require('scenes/test.zarr')\n",
    "zarr_dataset_test = ChunkedDataset(dataset_path_test)\n",
    "zarr_dataset_test.open()\n",
    "print(zarr_dataset_test)"
   ]
  },
  {
   "cell_type": "code",
   "execution_count": 31,
   "metadata": {
    "execution": {
     "iopub.execute_input": "2020-10-13T11:39:33.426499Z",
     "iopub.status.busy": "2020-10-13T11:39:33.423273Z",
     "iopub.status.idle": "2020-10-13T11:39:33.430681Z",
     "shell.execute_reply": "2020-10-13T11:39:33.428588Z"
    },
    "papermill": {
     "duration": 2.231273,
     "end_time": "2020-10-13T11:39:33.430843",
     "exception": false,
     "start_time": "2020-10-13T11:39:31.199570",
     "status": "completed"
    },
    "tags": []
   },
   "outputs": [
    {
     "name": "stdout",
     "output_type": "stream",
     "text": [
      "88594921\n"
     ]
    }
   ],
   "source": [
    "print(len(zarr_dataset_test.agents))"
   ]
  },
  {
   "cell_type": "code",
   "execution_count": 32,
   "metadata": {
    "execution": {
     "iopub.execute_input": "2020-10-13T11:39:38.091631Z",
     "iopub.status.busy": "2020-10-13T11:39:38.090477Z",
     "iopub.status.idle": "2020-10-13T11:39:42.040626Z",
     "shell.execute_reply": "2020-10-13T11:39:42.041289Z"
    },
    "papermill": {
     "duration": 6.413376,
     "end_time": "2020-10-13T11:39:42.041451",
     "exception": false,
     "start_time": "2020-10-13T11:39:35.628075",
     "status": "completed"
    },
    "tags": []
   },
   "outputs": [
    {
     "name": "stdout",
     "output_type": "stream",
     "text": [
      "0.001\n",
      "101%  Remaining: 00:00:00  Elapsed: 00:00:03  Total: 00:00:03\r"
     ]
    }
   ],
   "source": [
    "subsetPercent = 1*10**-3\n",
    "print(subsetPercent)\n",
    "agentsTest = getAgentsChunked(zarr_dataset_test.agents, subsetPercent, 1000)"
   ]
  },
  {
   "cell_type": "code",
   "execution_count": 33,
   "metadata": {
    "execution": {
     "iopub.execute_input": "2020-10-13T11:39:47.238352Z",
     "iopub.status.busy": "2020-10-13T11:39:47.237327Z",
     "iopub.status.idle": "2020-10-13T11:39:57.848091Z",
     "shell.execute_reply": "2020-10-13T11:39:57.848680Z"
    },
    "papermill": {
     "duration": 13.195754,
     "end_time": "2020-10-13T11:39:57.848842",
     "exception": false,
     "start_time": "2020-10-13T11:39:44.653088",
     "status": "completed"
    },
    "tags": []
   },
   "outputs": [
    {
     "name": "stdout",
     "output_type": "stream",
     "text": [
      "100%  Remaining: 00:00:00  Elapsed: 00:00:04  Total: 00:00:04\r"
     ]
    },
    {
     "data": {
      "image/png": "[encoded data removed]",
      "text/plain": [
       "<Figure size 432x288 with 1 Axes>"
      ]
     },
     "metadata": {},
     "output_type": "display_data"
    }
   ],
   "source": [
    "plotAgents(agents)"
   ]
  },
  {
   "cell_type": "code",
   "execution_count": 34,
   "metadata": {
    "execution": {
     "iopub.execute_input": "2020-10-13T11:40:03.758045Z",
     "iopub.status.busy": "2020-10-13T11:40:03.757098Z",
     "iopub.status.idle": "2020-10-13T11:40:07.783758Z",
     "shell.execute_reply": "2020-10-13T11:40:07.765599Z"
    },
    "papermill": {
     "duration": 7.016821,
     "end_time": "2020-10-13T11:40:07.783876",
     "exception": false,
     "start_time": "2020-10-13T11:40:00.767055",
     "status": "completed"
    },
    "tags": []
   },
   "outputs": [
    {
     "name": "stdout",
     "output_type": "stream",
     "text": [
      "  0%  Remaining: 00:18:57  Elapsed: 00:00:01  Total: 00:18:58\r\n",
      "max[0] 1176.3289794921875\n",
      "min[0] 228.365234375\n",
      "mean[0] 642.6905530002873\n",
      "std[0] 187.8624770611012 \n",
      "\n",
      "532.249755859375\n",
      "-0.5878810865726638\n",
      "  0%  Remaining: 01:38:23  Elapsed: 00:00:01  Total: 01:38:25\r\n",
      "max[1] -787.3958129882812\n",
      "min[1] -2457.771728515625\n",
      "mean[1] -1604.0917417434066\n",
      "std[1] 448.5577253894946 \n",
      "\n",
      " 20%  Remaining: 00:00:06  Elapsed: 00:00:01  Total: 00:00:08\r\n",
      "max[2] 3.1413598\n",
      "min[2] -3.14054\n",
      "mean[2] 0.6456462\n",
      "std[2] 1.1209098 \n",
      "\n",
      " 40%  Remaining: 00:00:03  Elapsed: 00:00:02  Total: 00:00:05\r\n",
      "max[3] 13.556842\n",
      "min[3] -14.46901\n",
      "mean[3] -0.030624595\n",
      "std[3] 1.9196839 \n",
      "\n",
      " 60%  Remaining: 00:00:01  Elapsed: 00:00:02  Total: 00:00:03\r\n",
      "max[4] 16.831251\n",
      "min[4] -19.91049\n",
      "mean[4] 0.21769048\n",
      "std[4] 2.4886796 \n",
      "\n",
      " 80%  Remaining: 00:00:00  Elapsed: 00:00:02  Total: 00:00:03\r"
     ]
    }
   ],
   "source": [
    "normalizedAgentsTest = normalizeAgents(agentsTest)"
   ]
  },
  {
   "cell_type": "code",
   "execution_count": 35,
   "metadata": {
    "execution": {
     "iopub.execute_input": "2020-10-13T11:40:15.335431Z",
     "iopub.status.busy": "2020-10-13T11:40:15.334011Z",
     "iopub.status.idle": "2020-10-13T11:40:15.413971Z",
     "shell.execute_reply": "2020-10-13T11:40:15.391509Z"
    },
    "papermill": {
     "duration": 3.583092,
     "end_time": "2020-10-13T11:40:15.414252",
     "exception": false,
     "start_time": "2020-10-13T11:40:11.831160",
     "status": "completed"
    },
    "tags": []
   },
   "outputs": [
    {
     "name": "stdout",
     "output_type": "stream",
     "text": [
      "len(agents) 849 \n",
      "\n",
      "len(agentCentroidLengths) 849 \n",
      "\n",
      "max 1072\n",
      "min 0\n",
      "mean 104.40989399293287\n",
      "std 128.88514146361 \n",
      "\n",
      "agents with 10+ history 741\n"
     ]
    }
   ],
   "source": [
    "agentsTestOverLimit = printAgentsInfo(normalizedAgentsTest, limit)"
   ]
  },
  {
   "cell_type": "code",
   "execution_count": 36,
   "metadata": {
    "execution": {
     "iopub.execute_input": "2020-10-13T11:40:23.032949Z",
     "iopub.status.busy": "2020-10-13T11:40:23.022707Z",
     "iopub.status.idle": "2020-10-13T11:40:29.301986Z",
     "shell.execute_reply": "2020-10-13T11:40:29.293328Z"
    },
    "papermill": {
     "duration": 10.16739,
     "end_time": "2020-10-13T11:40:29.302191",
     "exception": false,
     "start_time": "2020-10-13T11:40:19.134801",
     "status": "completed"
    },
    "tags": []
   },
   "outputs": [
    {
     "name": "stdout",
     "output_type": "stream",
     "text": [
      "len(allTrainingSets) 2269\n",
      "len(allTrainingSets[0]) 14911 \n",
      "\n",
      "len(agentsOverLimit) 2269\n",
      "len(agentsOverLimit[0]) - limit - 1 14911 \n",
      "\n",
      "totalNumberOfTrainingSets 1867440\n"
     ]
    }
   ],
   "source": [
    "allTestingSets = getTrainingSets(agentsTestOverLimit, limit)"
   ]
  },
  {
   "cell_type": "code",
   "execution_count": 37,
   "metadata": {
    "execution": {
     "iopub.execute_input": "2020-10-13T11:40:36.850965Z",
     "iopub.status.busy": "2020-10-13T11:40:36.835825Z",
     "iopub.status.idle": "2020-10-13T11:40:37.316924Z",
     "shell.execute_reply": "2020-10-13T11:40:37.312967Z"
    },
    "papermill": {
     "duration": 4.346416,
     "end_time": "2020-10-13T11:40:37.317035",
     "exception": false,
     "start_time": "2020-10-13T11:40:32.970619",
     "status": "completed"
    },
    "tags": []
   },
   "outputs": [
    {
     "name": "stdout",
     "output_type": "stream",
     "text": [
      "len(allTrainingSetsFlattened_X) 1867440\n"
     ]
    }
   ],
   "source": [
    "allTestingSetsFlattened_X, allTestingSetsFlattened_Y = flattenTrainingSets(allTestingSets)"
   ]
  },
  {
   "cell_type": "code",
   "execution_count": 38,
   "metadata": {
    "execution": {
     "iopub.execute_input": "2020-10-13T11:40:44.329066Z",
     "iopub.status.busy": "2020-10-13T11:40:44.327559Z",
     "iopub.status.idle": "2020-10-13T11:41:41.163242Z",
     "shell.execute_reply": "2020-10-13T11:41:41.159560Z"
    },
    "papermill": {
     "duration": 60.470976,
     "end_time": "2020-10-13T11:41:41.163457",
     "exception": false,
     "start_time": "2020-10-13T11:40:40.692481",
     "status": "completed"
    },
    "tags": []
   },
   "outputs": [
    {
     "name": "stdout",
     "output_type": "stream",
     "text": [
      "length 1867440\n",
      "depth 10\n",
      "channels 5\n",
      "length*depth*channels 93372000\n",
      "10\n",
      "5\n"
     ]
    }
   ],
   "source": [
    "allTestingSetsFlattened_Input, allTestingSetsFlattened_Output = reshapeFlattenedTrainingSets(allTestingSetsFlattened_X, allTestingSetsFlattened_Y)"
   ]
  },
  {
   "cell_type": "code",
   "execution_count": 39,
   "metadata": {
    "execution": {
     "iopub.execute_input": "2020-10-13T11:41:48.060696Z",
     "iopub.status.busy": "2020-10-13T11:41:48.059761Z",
     "iopub.status.idle": "2020-10-13T11:47:24.032743Z",
     "shell.execute_reply": "2020-10-13T11:47:24.032175Z"
    },
    "papermill": {
     "duration": 339.401203,
     "end_time": "2020-10-13T11:47:24.032878",
     "exception": false,
     "start_time": "2020-10-13T11:41:44.631675",
     "status": "completed"
    },
    "tags": []
   },
   "outputs": [
    {
     "name": "stdout",
     "output_type": "stream",
     "text": [
      "1867440\n",
      "101%  Remaining: 00:00:00  Elapsed: 00:05:35  Total: 00:05:36\r"
     ]
    }
   ],
   "source": [
    "max = len(allTestingSetsFlattened_Input)\n",
    "print(max)\n",
    "chunkSize = 1000\n",
    "pb = ProgressBar(max)\n",
    "pb.start()\n",
    "predictedTestAgentCentroid = np.empty((1,5))\n",
    "for i in range(0, max-chunkSize, chunkSize):#len(zarr_dataset.agents)):\n",
    "    newPredictions = regressor.predict(allTestingSetsFlattened_Input[i:i+chunkSize])\n",
    "    predictedTestAgentCentroid = np.concatenate((predictedTestAgentCentroid, newPredictions))\n",
    "    pb.check(i, True)\n"
   ]
  },
  {
   "cell_type": "code",
   "execution_count": 40,
   "metadata": {
    "execution": {
     "iopub.execute_input": "2020-10-13T11:47:32.955489Z",
     "iopub.status.busy": "2020-10-13T11:47:32.953312Z",
     "iopub.status.idle": "2020-10-13T11:47:32.964855Z",
     "shell.execute_reply": "2020-10-13T11:47:32.962600Z"
    },
    "papermill": {
     "duration": 4.826269,
     "end_time": "2020-10-13T11:47:32.965003",
     "exception": false,
     "start_time": "2020-10-13T11:47:28.138734",
     "status": "completed"
    },
    "tags": []
   },
   "outputs": [
    {
     "name": "stdout",
     "output_type": "stream",
     "text": [
      "1867001\n",
      "1867000\n"
     ]
    }
   ],
   "source": [
    "print(len(predictedTestAgentCentroid))\n",
    "predictedTestAgentCentroid = predictedTestAgentCentroid[1:len(predictedTestAgentCentroid)]\n",
    "print(len(predictedTestAgentCentroid))"
   ]
  },
  {
   "cell_type": "code",
   "execution_count": 41,
   "metadata": {
    "execution": {
     "iopub.execute_input": "2020-10-13T11:47:41.099538Z",
     "iopub.status.busy": "2020-10-13T11:47:41.098510Z",
     "iopub.status.idle": "2020-10-13T11:47:41.241331Z",
     "shell.execute_reply": "2020-10-13T11:47:41.210137Z"
    },
    "papermill": {
     "duration": 4.187536,
     "end_time": "2020-10-13T11:47:41.241509",
     "exception": false,
     "start_time": "2020-10-13T11:47:37.053973",
     "status": "completed"
    },
    "tags": []
   },
   "outputs": [
    {
     "name": "stdout",
     "output_type": "stream",
     "text": [
      "0.6094941673959706\n",
      "0.0025729008484631777 \n",
      "\n",
      "-2.387022767803382\n",
      "-0.014377855695784092 \n",
      "\n",
      "0.1819302038425144\n",
      "-0.000785033218562603 \n",
      "\n",
      "0.41561533164328257\n",
      "-0.0020648431964218616 \n",
      "\n",
      "-0.8210105057457325\n",
      "-0.006062093190848827 \n",
      "\n",
      "0.5603058805225293\n",
      "-8.311890996992588e-05 \n",
      "\n",
      "1.037024452924056\n",
      "0.00293122255243361 \n",
      "\n",
      "0.5523047981313972\n",
      "0.0025851347018033266 \n",
      "\n",
      "0.7906936234756256\n",
      "0.0008798616472631693 \n",
      "\n",
      "0.6692735695814034\n",
      "-0.0003164258087053895 \n",
      "\n"
     ]
    }
   ],
   "source": [
    "randomSamples = 10\n",
    "for i in range(0, len(predictedTestAgentCentroid), round(len(predictedTestAgentCentroid) / randomSamples)):\n",
    "    testSet = allTestingSetsFlattened_Input[i]\n",
    "    print(testSet[0][0])\n",
    "    print(predictedTestAgentCentroid[i][0],\"\\n\")"
   ]
  },
  {
   "cell_type": "code",
   "execution_count": null,
   "metadata": {
    "papermill": {
     "duration": 4.085669,
     "end_time": "2020-10-13T11:47:49.585028",
     "exception": false,
     "start_time": "2020-10-13T11:47:45.499359",
     "status": "completed"
    },
    "tags": []
   },
   "outputs": [],
   "source": []
  }
 ],
 "metadata": {
  "kernelspec": {
   "display_name": "Python 3",
   "language": "python",
   "name": "python3"
  },
  "language_info": {
   "codemirror_mode": {
    "name": "ipython",
    "version": 3
   },
   "file_extension": ".py",
   "mimetype": "text/x-python",
   "name": "python",
   "nbconvert_exporter": "python",
   "pygments_lexer": "ipython3",
   "version": "3.7.6"
  },
  "papermill": {
   "duration": 1067.624303,
   "end_time": "2020-10-13T11:47:55.576914",
   "environment_variables": {},
   "exception": null,
   "input_path": "__notebook__.ipynb",
   "output_path": "__notebook__.ipynb",
   "parameters": {},
   "start_time": "2020-10-13T11:30:07.952611",
   "version": "2.1.0"
  }
 },
 "nbformat": 4,
 "nbformat_minor": 4
}
