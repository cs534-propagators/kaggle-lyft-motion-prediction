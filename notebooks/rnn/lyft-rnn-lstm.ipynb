{
 "cells": [
  {
   "cell_type": "code",
   "execution_count": 1,
   "metadata": {},
   "outputs": [
    {
     "data": {
      "text/html": [
       "        <script type=\"text/javascript\">\n",
       "        window.PlotlyConfig = {MathJaxConfig: 'local'};\n",
       "        if (window.MathJax) {MathJax.Hub.Config({SVG: {font: \"STIX-Web\"}});}\n",
       "        if (typeof require !== 'undefined') {\n",
       "        require.undef(\"plotly\");\n",
       "        requirejs.config({\n",
       "            paths: {\n",
       "                'plotly': ['https://cdn.plot.ly/plotly-latest.min']\n",
       "            }\n",
       "        });\n",
       "        require(['plotly'], function(Plotly) {\n",
       "            window._Plotly = Plotly;\n",
       "        });\n",
       "        }\n",
       "        </script>\n",
       "        "
      ]
     },
     "metadata": {},
     "output_type": "display_data"
    }
   ],
   "source": [
    "import gc\n",
    "import os\n",
    "from pathlib import Path\n",
    "import random\n",
    "import sys\n",
    "\n",
    "from tqdm.notebook import tqdm\n",
    "import numpy as np\n",
    "import pandas as pd\n",
    "import scipy as sp\n",
    "\n",
    "\n",
    "import matplotlib.pyplot as plt\n",
    "import seaborn as sns\n",
    "\n",
    "from IPython.core.display import display, HTML\n",
    "\n",
    "# --- plotly ---\n",
    "from plotly import tools, subplots\n",
    "import plotly.offline as py\n",
    "py.init_notebook_mode(connected=True)\n",
    "import plotly.graph_objs as go\n",
    "import plotly.express as px\n",
    "import plotly.figure_factory as ff\n",
    "import plotly.io as pio\n",
    "pio.templates.default = \"plotly_dark\"\n",
    "\n",
    "# --- models ---\n",
    "from sklearn import preprocessing\n",
    "from sklearn.model_selection import KFold\n",
    "import lightgbm as lgb\n",
    "import xgboost as xgb\n",
    "import catboost as cb\n",
    "\n",
    "# --- setup ---\n",
    "pd.set_option('max_columns', 50)"
   ]
  },
  {
   "cell_type": "code",
   "execution_count": 2,
   "metadata": {},
   "outputs": [
    {
     "name": "stdout",
     "output_type": "stream",
     "text": [
      "l5kit version: 1.1.0\n"
     ]
    }
   ],
   "source": [
    "import zarr\n",
    "\n",
    "import l5kit\n",
    "from l5kit.data import ChunkedDataset, LocalDataManager\n",
    "from l5kit.dataset import EgoDataset, AgentDataset\n",
    "\n",
    "from l5kit.rasterization import build_rasterizer\n",
    "from l5kit.configs import load_config_data\n",
    "from l5kit.visualization import draw_trajectory, TARGET_POINTS_COLOR\n",
    "from l5kit.geometry import transform_points\n",
    "from tqdm import tqdm\n",
    "from collections import Counter\n",
    "from l5kit.data import PERCEPTION_LABELS\n",
    "from prettytable import PrettyTable\n",
    "\n",
    "from matplotlib import animation, rc\n",
    "from IPython.display import HTML\n",
    "\n",
    "rc('animation', html='jshtml')\n",
    "print(\"l5kit version:\", l5kit.__version__)"
   ]
  },
  {
   "cell_type": "code",
   "execution_count": 3,
   "metadata": {},
   "outputs": [],
   "source": [
    "# Importing the libraries\n",
    "import numpy as np\n",
    "import matplotlib.pyplot as plt\n",
    "plt.style.use('fivethirtyeight')\n",
    "import pandas as pd\n",
    "from sklearn.preprocessing import MinMaxScaler\n",
    "from keras.models import Sequential\n",
    "from keras.layers import Dense, LSTM, Dropout, GRU, Bidirectional\n",
    "from keras.optimizers import SGD\n",
    "import math\n",
    "from sklearn.metrics import mean_squared_error"
   ]
  },
  {
   "cell_type": "code",
   "execution_count": 4,
   "metadata": {},
   "outputs": [],
   "source": [
    "import time\n",
    "from datetime import datetime"
   ]
  },
  {
   "cell_type": "code",
   "execution_count": 5,
   "metadata": {},
   "outputs": [],
   "source": [
    "os.environ[\"L5KIT_DATA_FOLDER\"] = \"/kaggle/input/lyft-motion-prediction-autonomous-vehicles\""
   ]
  },
  {
   "cell_type": "code",
   "execution_count": 6,
   "metadata": {},
   "outputs": [
    {
     "name": "stdout",
     "output_type": "stream",
     "text": [
      "+------------+------------+------------+---------------+-----------------+----------------------+----------------------+----------------------+---------------------+\n",
      "| Num Scenes | Num Frames | Num Agents | Num TR lights | Total Time (hr) | Avg Frames per Scene | Avg Agents per Frame | Avg Scene Time (sec) | Avg Frame frequency |\n",
      "+------------+------------+------------+---------------+-----------------+----------------------+----------------------+----------------------+---------------------+\n",
      "|    100     |   24838    |  1893736   |     316008    |       0.69      |        248.38        |        76.24         |        24.83         |        10.00        |\n",
      "+------------+------------+------------+---------------+-----------------+----------------------+----------------------+----------------------+---------------------+\n"
     ]
    }
   ],
   "source": [
    "dm = LocalDataManager()\n",
    "dataset_path = dm.require('scenes/sample.zarr')\n",
    "zarr_dataset = ChunkedDataset(dataset_path)\n",
    "zarr_dataset.open()\n",
    "print(zarr_dataset)"
   ]
  },
  {
   "cell_type": "code",
   "execution_count": 7,
   "metadata": {},
   "outputs": [
    {
     "name": "stdout",
     "output_type": "stream",
     "text": [
      "<zarr.core.Array '/agents' (1893736,) [('centroid', '<f8', (2,)), ('extent', '<f4', (3,)), ('yaw', '<f4'), ('velocity', '<f4', (2,)), ('track_id', '<u8'), ('label_probabilities', '<f4', (17,))] read-only>\n",
      "(1893736,)\n"
     ]
    }
   ],
   "source": [
    "print(zarr_dataset.agents)\n",
    "print(zarr_dataset.agents.shape)\n",
    "n = zarr_dataset.agents.shape"
   ]
  },
  {
   "cell_type": "code",
   "execution_count": 8,
   "metadata": {},
   "outputs": [],
   "source": [
    "# helper to convert a timedelta to a string (dropping milliseconds)\n",
    "def deltaToString(delta):\n",
    "    timeObj = time.gmtime(delta.total_seconds())\n",
    "    return time.strftime('%H:%M:%S', timeObj)\n",
    "\n",
    "class ProgressBar:\n",
    "    \n",
    "    # constructor\n",
    "    #   maxIterations: maximum number of iterations\n",
    "    def __init__(self, maxIterations):\n",
    "        self.maxIterations = maxIterations\n",
    "        self.granularity = 100 # 1 whole percent\n",
    "    \n",
    "    # start the timer\n",
    "    def start(self):\n",
    "        self.start = datetime.now()\n",
    "    \n",
    "    # check the progress of the current iteration\n",
    "    #   # currentIteration: the current iteration we are on\n",
    "    def check(self, currentIteration, chunked=False):\n",
    "        if currentIteration % round(self.maxIterations / self.granularity) == 0 or chunked:\n",
    "            \n",
    "            percentage = round(currentIteration / (self.maxIterations - self.maxIterations / self.granularity) * 100)\n",
    "            \n",
    "            current = datetime.now()\n",
    "            \n",
    "            # time calculations\n",
    "            timeElapsed = (current - self.start)\n",
    "            timePerStep = timeElapsed / (currentIteration + 1)\n",
    "            totalEstimatedTime = timePerStep * self.maxIterations\n",
    "            timeRemaining = totalEstimatedTime - timeElapsed\n",
    "            \n",
    "            # string formatting\n",
    "            percentageStr = \"{:>3}%  \".format(percentage)\n",
    "            remainingStr = \"Remaining: {}  \".format(deltaToString(timeRemaining))\n",
    "            elapsedStr = \"Elapsed: {}  \".format(deltaToString(timeElapsed))\n",
    "            totalStr = \"Total: {}\\r\".format(deltaToString(totalEstimatedTime))\n",
    "            \n",
    "            print(percentageStr + remainingStr + elapsedStr + totalStr, end=\"\")\n",
    "\n",
    "    def end(self):\n",
    "        print()"
   ]
  },
  {
   "cell_type": "code",
   "execution_count": 9,
   "metadata": {},
   "outputs": [],
   "source": [
    "def getAgentsChunked(dataset, subsetPercent=1, chunks=10, mask_copy=[]):\n",
    "\n",
    "    datasetLength = round(len(dataset) * subsetPercent)\n",
    "    chunkSize = round(datasetLength / chunks)\n",
    "    \n",
    "    pb = ProgressBar(datasetLength)\n",
    "    pb.start()\n",
    "\n",
    "    agents = []\n",
    "    for i in range(0, datasetLength, chunkSize):\n",
    "\n",
    "        agentsSubset = dataset[i:i+chunkSize]\n",
    "        for j in range(0,len(agentsSubset)):\n",
    "            if len(mask_copy) > 0 and (j + i < len(mask_copy)) and not(mask_copy[i+j]):\n",
    "                continue\n",
    "            \n",
    "            agent = agentsSubset[j]\n",
    "            track_id = agent[4]\n",
    "\n",
    "            while track_id >= len(agents):\n",
    "                agents.append([])\n",
    "\n",
    "            data = []\n",
    "            centroid = agent[0]\n",
    "            yaw = agent[2]\n",
    "            velocity = agent[3]\n",
    "            data.append(centroid[0])\n",
    "            data.append(centroid[1])\n",
    "            data.append(yaw)\n",
    "            data.append(velocity[0])\n",
    "            data.append(velocity[1])\n",
    "            \n",
    "            agents[int(track_id)-1].append(data)\n",
    "            \n",
    "        pb.check(i, True)\n",
    "\n",
    "    return agents"
   ]
  },
  {
   "cell_type": "code",
   "execution_count": 10,
   "metadata": {},
   "outputs": [
    {
     "name": "stdout",
     "output_type": "stream",
     "text": [
      "<zarr.core.Array '/agents' (1893736,) [('centroid', '<f8', (2,)), ('extent', '<f4', (3,)), ('yaw', '<f4'), ('velocity', '<f4', (2,)), ('track_id', '<u8'), ('label_probabilities', '<f4', (17,))] read-only> \n",
      "\n",
      "<class 'numpy.float64'>\n",
      "<class 'numpy.ndarray'>\n",
      "<class 'numpy.void'>\n",
      "<class 'zarr.core.Array'>\n",
      "<class 'list'>\n"
     ]
    }
   ],
   "source": [
    "print(zarr_dataset.agents, \"\\n\")\n",
    "print(type(zarr_dataset.agents[0][0][0]))\n",
    "print(type(zarr_dataset.agents[0][0]))\n",
    "print(type(zarr_dataset.agents[0]))\n",
    "print(type(zarr_dataset.agents))\n",
    "agents = []\n",
    "print(type(agents))"
   ]
  },
  {
   "cell_type": "code",
   "execution_count": 11,
   "metadata": {},
   "outputs": [
    {
     "name": "stdout",
     "output_type": "stream",
     "text": [
      "0.1\n",
      "100%  Remaining: 00:00:00  Elapsed: 00:00:02  Total: 00:00:03\r"
     ]
    }
   ],
   "source": [
    "subsetPercent = 1*10**-2\n",
    "print(subsetPercent)\n",
    "agents = getAgentsChunked(zarr_dataset.agents, subsetPercent, 100)"
   ]
  },
  {
   "cell_type": "code",
   "execution_count": 12,
   "metadata": {},
   "outputs": [],
   "source": [
    "def plotAgents(agents):\n",
    "    r = lambda: random.randint(0,255)\n",
    "    pb = ProgressBar(len(agents))\n",
    "    pb.start()\n",
    "    for i in range(0, len(agents)):\n",
    "        agent = agents[i]\n",
    "        centroid_x = []\n",
    "        centroid_y = []\n",
    "        for centroid in agent:\n",
    "            centroid_x.append(centroid[0])\n",
    "            centroid_y.append(centroid[1])\n",
    "        plt.plot(centroid_x, centroid_y, 'o', color='#%02X%02X%02X' % (r(),r(),r()))\n",
    "        pb.check(i)"
   ]
  },
  {
   "cell_type": "code",
   "execution_count": 13,
   "metadata": {},
   "outputs": [
    {
     "name": "stdout",
     "output_type": "stream",
     "text": [
      "100%  Remaining: 00:00:00  Elapsed: 00:00:02  Total: 00:00:02\r"
     ]
    },
    {
     "data": {
      "image/png": "[encoded data removed]",
      "text/plain": [
       "<Figure size 432x288 with 1 Axes>"
      ]
     },
     "metadata": {},
     "output_type": "display_data"
    }
   ],
   "source": [
    "plotAgents(agents)"
   ]
  },
  {
   "cell_type": "code",
   "execution_count": 14,
   "metadata": {},
   "outputs": [],
   "source": [
    "def normalizeAgents(agents):\n",
    "    dataForNormalization = []\n",
    "    pb = ProgressBar(len(agents))\n",
    "    pb.start()\n",
    "    for i in range(0, len(agents)):\n",
    "        agent = agents[i]\n",
    "        pb.check(i)\n",
    "        for data in agent:\n",
    "            for i in range(0, len(data)):\n",
    "                feature = data[i]\n",
    "                if i >= len(dataForNormalization):\n",
    "                    dataForNormalization.append([])\n",
    "                dataForNormalization[i].append(feature)\n",
    "        \n",
    "    \n",
    "    first = True\n",
    "    normalizedAgents = []\n",
    "    pb = ProgressBar(len(dataForNormalization) * len(agents))\n",
    "    counter = 0\n",
    "    pb.start()\n",
    "    for i in range(0, len(dataForNormalization)):\n",
    "        pb.end()\n",
    "        data = dataForNormalization[i]\n",
    "        min_ = np.min(data)\n",
    "        max_ = np.max(data)\n",
    "        print(\"max[{}]\".format(i),max_)\n",
    "        print(\"min[{}]\".format(i),min_,\"\\n\")\n",
    "        \n",
    "        for j in range(0, len(agents)):\n",
    "            counter = counter + 1\n",
    "            pb.check(counter)\n",
    "            if j >= len(normalizedAgents):\n",
    "                normalizedAgents.append([])\n",
    "                \n",
    "            agent = agents[j]\n",
    "            normalizedAgent = normalizedAgents[j]\n",
    "            \n",
    "            for k in range(0, len(agent)):\n",
    "                if k >= len(normalizedAgent):\n",
    "                    normalizedAgent.append([])\n",
    "                data = agent[k]\n",
    "                normalizedData = normalizedAgent[k]\n",
    "                \n",
    "                feature = data[i]\n",
    "                normalizedFeature = (feature - min_) / (max_ - min_)\n",
    "                if i == 0 and first:\n",
    "                    print(feature)\n",
    "                    print(normalizedFeature)\n",
    "                    first = False\n",
    "                \n",
    "                if i >= len(normalizedData):\n",
    "                    normalizedData.append(0)\n",
    "                normalizedData[i] = normalizedFeature\n",
    "    return normalizedAgents"
   ]
  },
  {
   "cell_type": "code",
   "execution_count": 15,
   "metadata": {},
   "outputs": [],
   "source": [
    "import copy"
   ]
  },
  {
   "cell_type": "code",
   "execution_count": 16,
   "metadata": {},
   "outputs": [
    {
     "name": "stdout",
     "output_type": "stream",
     "text": [
      "100%  Remaining: 00:00:00  Elapsed: 00:00:00  Total: 00:00:00\n",
      "max[0] 980.1959838867188\n",
      "min[0] 218.91688537597656 \n",
      "\n",
      "665.0342407226562\n",
      "0.586010250668119\n",
      " 19%  Remaining: 00:00:04  Elapsed: 00:00:01  Total: 00:00:05\n",
      "max[1] -430.4901123046875\n",
      "min[1] -2217.884521484375 \n",
      "\n",
      " 39%  Remaining: 00:00:02  Elapsed: 00:00:01  Total: 00:00:04\n",
      "max[2] 3.1406064\n",
      "min[2] -3.1415224 \n",
      "\n",
      " 60%  Remaining: 00:00:01  Elapsed: 00:00:02  Total: 00:00:03\n",
      "max[3] 19.079967\n",
      "min[3] -17.11709 \n",
      "\n",
      " 80%  Remaining: 00:00:00  Elapsed: 00:00:02  Total: 00:00:03\n",
      "max[4] 27.416363\n",
      "min[4] -22.41946 \n",
      "\n",
      "100%  Remaining: 00:00:00  Elapsed: 00:00:03  Total: 00:00:03\r"
     ]
    }
   ],
   "source": [
    "normalizedAgents = normalizeAgents(agents)"
   ]
  },
  {
   "cell_type": "code",
   "execution_count": 17,
   "metadata": {},
   "outputs": [
    {
     "name": "stdout",
     "output_type": "stream",
     "text": [
      "1999\n",
      "1999 \n",
      "\n",
      "665.0342407226562\n",
      "0.586010250668119 \n",
      "\n"
     ]
    }
   ],
   "source": [
    "print(len(agents))\n",
    "print(len(normalizedAgents),\"\\n\")\n",
    "\n",
    "print(agents[0][0][0])\n",
    "print(normalizedAgents[0][0][0],\"\\n\")"
   ]
  },
  {
   "cell_type": "code",
   "execution_count": 18,
   "metadata": {},
   "outputs": [],
   "source": [
    "def printAgentsInfo(agents, limit):\n",
    "    print(\"len(agents)\", len(agents), \"\\n\")\n",
    "\n",
    "    agentCentroidLengths = []\n",
    "    agentsOverLimit = []\n",
    "    for agent in agents:\n",
    "        agentCentroidLengths.append(len(agent))\n",
    "        if len(agent) > limit:\n",
    "            agentsOverLimit.append(agent)\n",
    "\n",
    "    print(\"len(agentCentroidLengths)\",len(agentCentroidLengths), \"\\n\")\n",
    "\n",
    "    print(\"max\",np.max(agentCentroidLengths))\n",
    "    print(\"min\",np.min(agentCentroidLengths))\n",
    "    print(\"mean\",np.mean(agentCentroidLengths))\n",
    "    print(\"std\",np.std(agentCentroidLengths), \"\\n\")\n",
    "\n",
    "    print(\"agents with {}+ history\".format(limit),len(agentsOverLimit))\n",
    "    return agentsOverLimit"
   ]
  },
  {
   "cell_type": "code",
   "execution_count": 19,
   "metadata": {},
   "outputs": [
    {
     "name": "stdout",
     "output_type": "stream",
     "text": [
      "len(agents) 1999 \n",
      "\n",
      "len(agentCentroidLengths) 1999 \n",
      "\n",
      "max 1777\n",
      "min 0\n",
      "mean 94.74737368684342\n",
      "std 124.77062381081134 \n",
      "\n",
      "agents with 10+ history 1746\n"
     ]
    }
   ],
   "source": [
    "limit = 10\n",
    "agentsOverLimit = printAgentsInfo(normalizedAgents, limit)"
   ]
  },
  {
   "cell_type": "code",
   "execution_count": 20,
   "metadata": {},
   "outputs": [],
   "source": [
    "def getTrainingSets(agents, limit):\n",
    "    allTrainingSets = []\n",
    "    totalNumberOfTrainingSets = 0\n",
    "    \n",
    "    pb = ProgressBar(len(agents))\n",
    "    pb.start()\n",
    "    for i in range(0, len(agents)):\n",
    "        agent = agents[i]\n",
    "        agentTrainingSets = []\n",
    "        for i in range(limit, len(agent)-1):\n",
    "            agentTrainingSet = []\n",
    "\n",
    "            start = i - limit\n",
    "            end = i\n",
    "            output = i + 1\n",
    "\n",
    "            agentTrainingSet.append(agent[start:end])\n",
    "            agentTrainingSet.append(agent[output])\n",
    "            agentTrainingSets.append(agentTrainingSet)\n",
    "\n",
    "            totalNumberOfTrainingSets = totalNumberOfTrainingSets + 1\n",
    "\n",
    "        allTrainingSets.append(agentTrainingSets)\n",
    "        pb.check(i)\n",
    "    pb.end()\n",
    "    \n",
    "    print(\"len(allTrainingSets)\", len(allTrainingSets))\n",
    "    print(\"len(allTrainingSets[0])\",len(allTrainingSets[0]), \"\\n\")\n",
    "\n",
    "    print(\"len(agents)\",len(agents))\n",
    "    print(\"len(agents[0]) - limit - 1\",len(agents[0]) - limit - 1, \"\\n\")\n",
    "\n",
    "    print(\"totalNumberOfTrainingSets\",totalNumberOfTrainingSets)\n",
    "    return allTrainingSets, totalNumberOfTrainingSets"
   ]
  },
  {
   "cell_type": "code",
   "execution_count": 21,
   "metadata": {},
   "outputs": [
    {
     "name": "stdout",
     "output_type": "stream",
     "text": [
      "100%  Remaining: 00:00:00  Elapsed: 00:00:00  Total: 00:00:00\n",
      "len(allTrainingSets) 1746\n",
      "len(allTrainingSets[0]) 1766 \n",
      "\n",
      "len(agents) 1746\n",
      "len(agents[0]) - limit - 1 1766 \n",
      "\n",
      "totalNumberOfTrainingSets 168623\n"
     ]
    }
   ],
   "source": [
    "allTrainingSets, totalNumberOfTrainingSets = getTrainingSets(agentsOverLimit, limit)"
   ]
  },
  {
   "cell_type": "code",
   "execution_count": 22,
   "metadata": {},
   "outputs": [
    {
     "name": "stdout",
     "output_type": "stream",
     "text": [
      "1746\n",
      "1766\n",
      "2\n",
      "10\n",
      "5\n"
     ]
    }
   ],
   "source": [
    "print(len(allTrainingSets))\n",
    "print(len(allTrainingSets[0]))\n",
    "print(len(allTrainingSets[0][0]))\n",
    "print(len(allTrainingSets[0][0][0]))\n",
    "print(len(allTrainingSets[0][0][0][0]))"
   ]
  },
  {
   "cell_type": "code",
   "execution_count": 23,
   "metadata": {},
   "outputs": [],
   "source": [
    "def flattenTrainingSets(allTrainingSets, totalNumberOfTrainingSets):\n",
    "    allTrainingSetsFlattened_X = np.empty((totalNumberOfTrainingSets, limit, len(allTrainingSets[0][0][0][0])))\n",
    "    allTrainingSetsFlattened_Y = np.empty((totalNumberOfTrainingSets, len(allTrainingSets[0][0][0][0])))\n",
    "    count = 0\n",
    "    for allTrainingSet in allTrainingSets:\n",
    "        for trainingSet in allTrainingSet:\n",
    "            allTrainingSetsFlattened_X[count] = np.array(trainingSet[0])\n",
    "            allTrainingSetsFlattened_Y[count] = trainingSet[1]\n",
    "            count = count + 1\n",
    "    print(\"len(allTrainingSetsFlattened_X)\", len(allTrainingSetsFlattened_X))\n",
    "    return allTrainingSetsFlattened_X, allTrainingSetsFlattened_Y"
   ]
  },
  {
   "cell_type": "code",
   "execution_count": 24,
   "metadata": {},
   "outputs": [
    {
     "name": "stdout",
     "output_type": "stream",
     "text": [
      "len(allTrainingSetsFlattened_X) 168623\n"
     ]
    }
   ],
   "source": [
    "allTrainingSetsFlattened_X, allTrainingSetsFlattened_Y = flattenTrainingSets(allTrainingSets, totalNumberOfTrainingSets)"
   ]
  },
  {
   "cell_type": "code",
   "execution_count": 25,
   "metadata": {},
   "outputs": [
    {
     "name": "stdout",
     "output_type": "stream",
     "text": [
      "length 168623\n",
      "depth 10\n",
      "channels 5\n",
      "length*depth*channels 8431150\n",
      "10\n",
      "5\n"
     ]
    }
   ],
   "source": [
    "length = len(allTrainingSetsFlattened_X)\n",
    "depth = len(allTrainingSetsFlattened_X[0])\n",
    "channels = len(allTrainingSetsFlattened_X[0][0])\n",
    "\n",
    "print(\"length\", length)\n",
    "print(\"depth\", depth)\n",
    "print(\"channels\",channels)\n",
    "print(\"length*depth*channels\",length*depth*channels)\n",
    "\n",
    "allTrainingSetsFlattened_Input = allTrainingSetsFlattened_X\n",
    "allTrainingSetsFlattened_Output = allTrainingSetsFlattened_Y\n",
    "\n",
    "print(allTrainingSetsFlattened_Input.shape[1])\n",
    "print(allTrainingSetsFlattened_Input.shape[2])"
   ]
  },
  {
   "cell_type": "code",
   "execution_count": 26,
   "metadata": {},
   "outputs": [],
   "source": [
    "# The LSTM architecture\n",
    "regressor = Sequential()\n",
    "# First LSTM layer with Dropout regularisation\n",
    "regressor.add(LSTM(units=50, return_sequences=True, input_shape=(allTrainingSetsFlattened_Input.shape[1],allTrainingSetsFlattened_Input.shape[2])))\n",
    "regressor.add(Dropout(0.2))\n",
    "# Second LSTM layer\n",
    "regressor.add(LSTM(units=50, return_sequences=True))\n",
    "regressor.add(Dropout(0.2))\n",
    "# Third LSTM layer\n",
    "regressor.add(LSTM(units=50, return_sequences=True))\n",
    "regressor.add(Dropout(0.2))\n",
    "# Fourth LSTM layer\n",
    "regressor.add(LSTM(units=50))\n",
    "regressor.add(Dropout(0.2))\n",
    "# The output layer\n",
    "regressor.add(Dense(units=allTrainingSetsFlattened_Input.shape[2]))\n",
    "\n",
    "# Compiling the RNN\n",
    "regressor.compile(optimizer='rmsprop',loss='mean_squared_error')"
   ]
  },
  {
   "cell_type": "code",
   "execution_count": 27,
   "metadata": {},
   "outputs": [],
   "source": [
    "from tensorflow import keras"
   ]
  },
  {
   "cell_type": "code",
   "execution_count": 28,
   "metadata": {},
   "outputs": [
    {
     "name": "stdout",
     "output_type": "stream",
     "text": [
      "Epoch: 0 batchs: 8% loss: 0.031531352549791336\r"
     ]
    },
    {
     "ename": "KeyboardInterrupt",
     "evalue": "",
     "output_type": "error",
     "traceback": [
      "\u001b[0;31m---------------------------------------------------------------------------\u001b[0m",
      "\u001b[0;31mKeyboardInterrupt\u001b[0m                         Traceback (most recent call last)",
      "\u001b[0;32m<ipython-input-28-5b5ab92df6a9>\u001b[0m in \u001b[0;36m<module>\u001b[0;34m\u001b[0m\n\u001b[1;32m     16\u001b[0m             \u001b[0mprint\u001b[0m\u001b[0;34m(\u001b[0m\u001b[0;34m\"Epoch: {} batchs: {}% loss: {}\\r\"\u001b[0m\u001b[0;34m.\u001b[0m\u001b[0mformat\u001b[0m\u001b[0;34m(\u001b[0m\u001b[0mself\u001b[0m\u001b[0;34m.\u001b[0m\u001b[0mepoch\u001b[0m\u001b[0;34m,\u001b[0m \u001b[0mround\u001b[0m\u001b[0;34m(\u001b[0m\u001b[0mbatch\u001b[0m \u001b[0;34m/\u001b[0m \u001b[0mself\u001b[0m\u001b[0;34m.\u001b[0m\u001b[0mparams\u001b[0m\u001b[0;34m[\u001b[0m\u001b[0;34m'steps'\u001b[0m\u001b[0;34m]\u001b[0m \u001b[0;34m*\u001b[0m \u001b[0;36m100\u001b[0m\u001b[0;34m)\u001b[0m\u001b[0;34m,\u001b[0m \u001b[0mlogs\u001b[0m\u001b[0;34m[\u001b[0m\u001b[0;34m'loss'\u001b[0m\u001b[0;34m]\u001b[0m\u001b[0;34m)\u001b[0m\u001b[0;34m,\u001b[0m \u001b[0mend\u001b[0m\u001b[0;34m=\u001b[0m\u001b[0;34m\"\"\u001b[0m\u001b[0;34m)\u001b[0m\u001b[0;34m\u001b[0m\u001b[0;34m\u001b[0m\u001b[0m\n\u001b[1;32m     17\u001b[0m \u001b[0;34m\u001b[0m\u001b[0m\n\u001b[0;32m---> 18\u001b[0;31m \u001b[0mregressor\u001b[0m\u001b[0;34m.\u001b[0m\u001b[0mfit\u001b[0m\u001b[0;34m(\u001b[0m\u001b[0mallTrainingSetsFlattened_Input\u001b[0m\u001b[0;34m,\u001b[0m\u001b[0mallTrainingSetsFlattened_Output\u001b[0m\u001b[0;34m,\u001b[0m\u001b[0mepochs\u001b[0m\u001b[0;34m=\u001b[0m\u001b[0;36m2\u001b[0m\u001b[0;34m,\u001b[0m\u001b[0mbatch_size\u001b[0m\u001b[0;34m=\u001b[0m\u001b[0;36m128\u001b[0m\u001b[0;34m,\u001b[0m\u001b[0mverbose\u001b[0m\u001b[0;34m=\u001b[0m\u001b[0;36m0\u001b[0m\u001b[0;34m,\u001b[0m\u001b[0mcallbacks\u001b[0m\u001b[0;34m=\u001b[0m\u001b[0;34m[\u001b[0m\u001b[0mCustomCallback\u001b[0m\u001b[0;34m(\u001b[0m\u001b[0;34m)\u001b[0m\u001b[0;34m]\u001b[0m\u001b[0;34m)\u001b[0m\u001b[0;34m\u001b[0m\u001b[0;34m\u001b[0m\u001b[0m\n\u001b[0m",
      "\u001b[0;32m/opt/conda/lib/python3.7/site-packages/tensorflow/python/keras/engine/training.py\u001b[0m in \u001b[0;36m_method_wrapper\u001b[0;34m(self, *args, **kwargs)\u001b[0m\n\u001b[1;32m    106\u001b[0m   \u001b[0;32mdef\u001b[0m \u001b[0m_method_wrapper\u001b[0m\u001b[0;34m(\u001b[0m\u001b[0mself\u001b[0m\u001b[0;34m,\u001b[0m \u001b[0;34m*\u001b[0m\u001b[0margs\u001b[0m\u001b[0;34m,\u001b[0m \u001b[0;34m**\u001b[0m\u001b[0mkwargs\u001b[0m\u001b[0;34m)\u001b[0m\u001b[0;34m:\u001b[0m\u001b[0;34m\u001b[0m\u001b[0;34m\u001b[0m\u001b[0m\n\u001b[1;32m    107\u001b[0m     \u001b[0;32mif\u001b[0m \u001b[0;32mnot\u001b[0m \u001b[0mself\u001b[0m\u001b[0;34m.\u001b[0m\u001b[0m_in_multi_worker_mode\u001b[0m\u001b[0;34m(\u001b[0m\u001b[0;34m)\u001b[0m\u001b[0;34m:\u001b[0m  \u001b[0;31m# pylint: disable=protected-access\u001b[0m\u001b[0;34m\u001b[0m\u001b[0;34m\u001b[0m\u001b[0m\n\u001b[0;32m--> 108\u001b[0;31m       \u001b[0;32mreturn\u001b[0m \u001b[0mmethod\u001b[0m\u001b[0;34m(\u001b[0m\u001b[0mself\u001b[0m\u001b[0;34m,\u001b[0m \u001b[0;34m*\u001b[0m\u001b[0margs\u001b[0m\u001b[0;34m,\u001b[0m \u001b[0;34m**\u001b[0m\u001b[0mkwargs\u001b[0m\u001b[0;34m)\u001b[0m\u001b[0;34m\u001b[0m\u001b[0;34m\u001b[0m\u001b[0m\n\u001b[0m\u001b[1;32m    109\u001b[0m \u001b[0;34m\u001b[0m\u001b[0m\n\u001b[1;32m    110\u001b[0m     \u001b[0;31m# Running inside `run_distribute_coordinator` already.\u001b[0m\u001b[0;34m\u001b[0m\u001b[0;34m\u001b[0m\u001b[0;34m\u001b[0m\u001b[0m\n",
      "\u001b[0;32m/opt/conda/lib/python3.7/site-packages/tensorflow/python/keras/engine/training.py\u001b[0m in \u001b[0;36mfit\u001b[0;34m(self, x, y, batch_size, epochs, verbose, callbacks, validation_split, validation_data, shuffle, class_weight, sample_weight, initial_epoch, steps_per_epoch, validation_steps, validation_batch_size, validation_freq, max_queue_size, workers, use_multiprocessing)\u001b[0m\n\u001b[1;32m   1096\u001b[0m                 batch_size=batch_size):\n\u001b[1;32m   1097\u001b[0m               \u001b[0mcallbacks\u001b[0m\u001b[0;34m.\u001b[0m\u001b[0mon_train_batch_begin\u001b[0m\u001b[0;34m(\u001b[0m\u001b[0mstep\u001b[0m\u001b[0;34m)\u001b[0m\u001b[0;34m\u001b[0m\u001b[0;34m\u001b[0m\u001b[0m\n\u001b[0;32m-> 1098\u001b[0;31m               \u001b[0mtmp_logs\u001b[0m \u001b[0;34m=\u001b[0m \u001b[0mtrain_function\u001b[0m\u001b[0;34m(\u001b[0m\u001b[0miterator\u001b[0m\u001b[0;34m)\u001b[0m\u001b[0;34m\u001b[0m\u001b[0;34m\u001b[0m\u001b[0m\n\u001b[0m\u001b[1;32m   1099\u001b[0m               \u001b[0;32mif\u001b[0m \u001b[0mdata_handler\u001b[0m\u001b[0;34m.\u001b[0m\u001b[0mshould_sync\u001b[0m\u001b[0;34m:\u001b[0m\u001b[0;34m\u001b[0m\u001b[0;34m\u001b[0m\u001b[0m\n\u001b[1;32m   1100\u001b[0m                 \u001b[0mcontext\u001b[0m\u001b[0;34m.\u001b[0m\u001b[0masync_wait\u001b[0m\u001b[0;34m(\u001b[0m\u001b[0;34m)\u001b[0m\u001b[0;34m\u001b[0m\u001b[0;34m\u001b[0m\u001b[0m\n",
      "\u001b[0;32m/opt/conda/lib/python3.7/site-packages/tensorflow/python/eager/def_function.py\u001b[0m in \u001b[0;36m__call__\u001b[0;34m(self, *args, **kwds)\u001b[0m\n\u001b[1;32m    778\u001b[0m       \u001b[0;32melse\u001b[0m\u001b[0;34m:\u001b[0m\u001b[0;34m\u001b[0m\u001b[0;34m\u001b[0m\u001b[0m\n\u001b[1;32m    779\u001b[0m         \u001b[0mcompiler\u001b[0m \u001b[0;34m=\u001b[0m \u001b[0;34m\"nonXla\"\u001b[0m\u001b[0;34m\u001b[0m\u001b[0;34m\u001b[0m\u001b[0m\n\u001b[0;32m--> 780\u001b[0;31m         \u001b[0mresult\u001b[0m \u001b[0;34m=\u001b[0m \u001b[0mself\u001b[0m\u001b[0;34m.\u001b[0m\u001b[0m_call\u001b[0m\u001b[0;34m(\u001b[0m\u001b[0;34m*\u001b[0m\u001b[0margs\u001b[0m\u001b[0;34m,\u001b[0m \u001b[0;34m**\u001b[0m\u001b[0mkwds\u001b[0m\u001b[0;34m)\u001b[0m\u001b[0;34m\u001b[0m\u001b[0;34m\u001b[0m\u001b[0m\n\u001b[0m\u001b[1;32m    781\u001b[0m \u001b[0;34m\u001b[0m\u001b[0m\n\u001b[1;32m    782\u001b[0m       \u001b[0mnew_tracing_count\u001b[0m \u001b[0;34m=\u001b[0m \u001b[0mself\u001b[0m\u001b[0;34m.\u001b[0m\u001b[0m_get_tracing_count\u001b[0m\u001b[0;34m(\u001b[0m\u001b[0;34m)\u001b[0m\u001b[0;34m\u001b[0m\u001b[0;34m\u001b[0m\u001b[0m\n",
      "\u001b[0;32m/opt/conda/lib/python3.7/site-packages/tensorflow/python/eager/def_function.py\u001b[0m in \u001b[0;36m_call\u001b[0;34m(self, *args, **kwds)\u001b[0m\n\u001b[1;32m    805\u001b[0m       \u001b[0;31m# In this case we have created variables on the first call, so we run the\u001b[0m\u001b[0;34m\u001b[0m\u001b[0;34m\u001b[0m\u001b[0;34m\u001b[0m\u001b[0m\n\u001b[1;32m    806\u001b[0m       \u001b[0;31m# defunned version which is guaranteed to never create variables.\u001b[0m\u001b[0;34m\u001b[0m\u001b[0;34m\u001b[0m\u001b[0;34m\u001b[0m\u001b[0m\n\u001b[0;32m--> 807\u001b[0;31m       \u001b[0;32mreturn\u001b[0m \u001b[0mself\u001b[0m\u001b[0;34m.\u001b[0m\u001b[0m_stateless_fn\u001b[0m\u001b[0;34m(\u001b[0m\u001b[0;34m*\u001b[0m\u001b[0margs\u001b[0m\u001b[0;34m,\u001b[0m \u001b[0;34m**\u001b[0m\u001b[0mkwds\u001b[0m\u001b[0;34m)\u001b[0m  \u001b[0;31m# pylint: disable=not-callable\u001b[0m\u001b[0;34m\u001b[0m\u001b[0;34m\u001b[0m\u001b[0m\n\u001b[0m\u001b[1;32m    808\u001b[0m     \u001b[0;32melif\u001b[0m \u001b[0mself\u001b[0m\u001b[0;34m.\u001b[0m\u001b[0m_stateful_fn\u001b[0m \u001b[0;32mis\u001b[0m \u001b[0;32mnot\u001b[0m \u001b[0;32mNone\u001b[0m\u001b[0;34m:\u001b[0m\u001b[0;34m\u001b[0m\u001b[0;34m\u001b[0m\u001b[0m\n\u001b[1;32m    809\u001b[0m       \u001b[0;31m# Release the lock early so that multiple threads can perform the call\u001b[0m\u001b[0;34m\u001b[0m\u001b[0;34m\u001b[0m\u001b[0;34m\u001b[0m\u001b[0m\n",
      "\u001b[0;32m/opt/conda/lib/python3.7/site-packages/tensorflow/python/eager/function.py\u001b[0m in \u001b[0;36m__call__\u001b[0;34m(self, *args, **kwargs)\u001b[0m\n\u001b[1;32m   2826\u001b[0m     \u001b[0;34m\"\"\"Calls a graph function specialized to the inputs.\"\"\"\u001b[0m\u001b[0;34m\u001b[0m\u001b[0;34m\u001b[0m\u001b[0m\n\u001b[1;32m   2827\u001b[0m     \u001b[0;32mwith\u001b[0m \u001b[0mself\u001b[0m\u001b[0;34m.\u001b[0m\u001b[0m_lock\u001b[0m\u001b[0;34m:\u001b[0m\u001b[0;34m\u001b[0m\u001b[0;34m\u001b[0m\u001b[0m\n\u001b[0;32m-> 2828\u001b[0;31m       \u001b[0mgraph_function\u001b[0m\u001b[0;34m,\u001b[0m \u001b[0margs\u001b[0m\u001b[0;34m,\u001b[0m \u001b[0mkwargs\u001b[0m \u001b[0;34m=\u001b[0m \u001b[0mself\u001b[0m\u001b[0;34m.\u001b[0m\u001b[0m_maybe_define_function\u001b[0m\u001b[0;34m(\u001b[0m\u001b[0margs\u001b[0m\u001b[0;34m,\u001b[0m \u001b[0mkwargs\u001b[0m\u001b[0;34m)\u001b[0m\u001b[0;34m\u001b[0m\u001b[0;34m\u001b[0m\u001b[0m\n\u001b[0m\u001b[1;32m   2829\u001b[0m     \u001b[0;32mreturn\u001b[0m \u001b[0mgraph_function\u001b[0m\u001b[0;34m.\u001b[0m\u001b[0m_filtered_call\u001b[0m\u001b[0;34m(\u001b[0m\u001b[0margs\u001b[0m\u001b[0;34m,\u001b[0m \u001b[0mkwargs\u001b[0m\u001b[0;34m)\u001b[0m  \u001b[0;31m# pylint: disable=protected-access\u001b[0m\u001b[0;34m\u001b[0m\u001b[0;34m\u001b[0m\u001b[0m\n\u001b[1;32m   2830\u001b[0m \u001b[0;34m\u001b[0m\u001b[0m\n",
      "\u001b[0;32m/opt/conda/lib/python3.7/site-packages/tensorflow/python/eager/function.py\u001b[0m in \u001b[0;36m_maybe_define_function\u001b[0;34m(self, args, kwargs)\u001b[0m\n\u001b[1;32m   3171\u001b[0m           *args, **kwargs)\n\u001b[1;32m   3172\u001b[0m \u001b[0;34m\u001b[0m\u001b[0m\n\u001b[0;32m-> 3173\u001b[0;31m     \u001b[0mcache_key\u001b[0m \u001b[0;34m=\u001b[0m \u001b[0mself\u001b[0m\u001b[0;34m.\u001b[0m\u001b[0m_cache_key\u001b[0m\u001b[0;34m(\u001b[0m\u001b[0margs\u001b[0m\u001b[0;34m,\u001b[0m \u001b[0mkwargs\u001b[0m\u001b[0;34m)\u001b[0m\u001b[0;34m\u001b[0m\u001b[0;34m\u001b[0m\u001b[0m\n\u001b[0m\u001b[1;32m   3174\u001b[0m \u001b[0;34m\u001b[0m\u001b[0m\n\u001b[1;32m   3175\u001b[0m     \u001b[0;32mtry\u001b[0m\u001b[0;34m:\u001b[0m\u001b[0;34m\u001b[0m\u001b[0;34m\u001b[0m\u001b[0m\n",
      "\u001b[0;32m/opt/conda/lib/python3.7/site-packages/tensorflow/python/eager/function.py\u001b[0m in \u001b[0;36m_cache_key\u001b[0;34m(self, args, kwargs, include_tensor_ranks_only)\u001b[0m\n\u001b[1;32m   3041\u001b[0m \u001b[0;34m\u001b[0m\u001b[0m\n\u001b[1;32m   3042\u001b[0m     return CacheKey(\n\u001b[0;32m-> 3043\u001b[0;31m         \u001b[0m_make_input_signature_hashable\u001b[0m\u001b[0;34m(\u001b[0m\u001b[0minput_signature\u001b[0m\u001b[0;34m)\u001b[0m\u001b[0;34m,\u001b[0m \u001b[0mparent_graph\u001b[0m\u001b[0;34m,\u001b[0m\u001b[0;34m\u001b[0m\u001b[0;34m\u001b[0m\u001b[0m\n\u001b[0m\u001b[1;32m   3044\u001b[0m         \u001b[0mdevice_functions\u001b[0m\u001b[0;34m,\u001b[0m \u001b[0mcolocation_stack\u001b[0m\u001b[0;34m,\u001b[0m \u001b[0min_cross_replica_context\u001b[0m\u001b[0;34m,\u001b[0m\u001b[0;34m\u001b[0m\u001b[0;34m\u001b[0m\u001b[0m\n\u001b[1;32m   3045\u001b[0m         xla_context_id)\n",
      "\u001b[0;32m/opt/conda/lib/python3.7/site-packages/tensorflow/python/eager/function.py\u001b[0m in \u001b[0;36m_make_input_signature_hashable\u001b[0;34m(elem)\u001b[0m\n\u001b[1;32m    107\u001b[0m   \u001b[0;31m# TODO(slebedev): consider using nest.\u001b[0m\u001b[0;34m\u001b[0m\u001b[0;34m\u001b[0m\u001b[0;34m\u001b[0m\u001b[0m\n\u001b[1;32m    108\u001b[0m   \u001b[0;32mif\u001b[0m \u001b[0misinstance\u001b[0m\u001b[0;34m(\u001b[0m\u001b[0melem\u001b[0m\u001b[0;34m,\u001b[0m \u001b[0mtuple\u001b[0m\u001b[0;34m)\u001b[0m\u001b[0;34m:\u001b[0m\u001b[0;34m\u001b[0m\u001b[0;34m\u001b[0m\u001b[0m\n\u001b[0;32m--> 109\u001b[0;31m     \u001b[0;32mreturn\u001b[0m \u001b[0mtuple\u001b[0m\u001b[0;34m(\u001b[0m\u001b[0mmap\u001b[0m\u001b[0;34m(\u001b[0m\u001b[0m_make_input_signature_hashable\u001b[0m\u001b[0;34m,\u001b[0m \u001b[0melem\u001b[0m\u001b[0;34m)\u001b[0m\u001b[0;34m)\u001b[0m\u001b[0;34m\u001b[0m\u001b[0;34m\u001b[0m\u001b[0m\n\u001b[0m\u001b[1;32m    110\u001b[0m \u001b[0;34m\u001b[0m\u001b[0m\n\u001b[1;32m    111\u001b[0m   \u001b[0;32mtry\u001b[0m\u001b[0;34m:\u001b[0m\u001b[0;34m\u001b[0m\u001b[0;34m\u001b[0m\u001b[0m\n",
      "\u001b[0;32m/opt/conda/lib/python3.7/site-packages/tensorflow/python/eager/function.py\u001b[0m in \u001b[0;36m_make_input_signature_hashable\u001b[0;34m(elem)\u001b[0m\n\u001b[1;32m    107\u001b[0m   \u001b[0;31m# TODO(slebedev): consider using nest.\u001b[0m\u001b[0;34m\u001b[0m\u001b[0;34m\u001b[0m\u001b[0;34m\u001b[0m\u001b[0m\n\u001b[1;32m    108\u001b[0m   \u001b[0;32mif\u001b[0m \u001b[0misinstance\u001b[0m\u001b[0;34m(\u001b[0m\u001b[0melem\u001b[0m\u001b[0;34m,\u001b[0m \u001b[0mtuple\u001b[0m\u001b[0;34m)\u001b[0m\u001b[0;34m:\u001b[0m\u001b[0;34m\u001b[0m\u001b[0;34m\u001b[0m\u001b[0m\n\u001b[0;32m--> 109\u001b[0;31m     \u001b[0;32mreturn\u001b[0m \u001b[0mtuple\u001b[0m\u001b[0;34m(\u001b[0m\u001b[0mmap\u001b[0m\u001b[0;34m(\u001b[0m\u001b[0m_make_input_signature_hashable\u001b[0m\u001b[0;34m,\u001b[0m \u001b[0melem\u001b[0m\u001b[0;34m)\u001b[0m\u001b[0;34m)\u001b[0m\u001b[0;34m\u001b[0m\u001b[0;34m\u001b[0m\u001b[0m\n\u001b[0m\u001b[1;32m    110\u001b[0m \u001b[0;34m\u001b[0m\u001b[0m\n\u001b[1;32m    111\u001b[0m   \u001b[0;32mtry\u001b[0m\u001b[0;34m:\u001b[0m\u001b[0;34m\u001b[0m\u001b[0;34m\u001b[0m\u001b[0m\n",
      "\u001b[0;32m/opt/conda/lib/python3.7/site-packages/tensorflow/python/eager/function.py\u001b[0m in \u001b[0;36m_make_input_signature_hashable\u001b[0;34m(elem)\u001b[0m\n\u001b[1;32m    110\u001b[0m \u001b[0;34m\u001b[0m\u001b[0m\n\u001b[1;32m    111\u001b[0m   \u001b[0;32mtry\u001b[0m\u001b[0;34m:\u001b[0m\u001b[0;34m\u001b[0m\u001b[0;34m\u001b[0m\u001b[0m\n\u001b[0;32m--> 112\u001b[0;31m     \u001b[0mhash\u001b[0m\u001b[0;34m(\u001b[0m\u001b[0melem\u001b[0m\u001b[0;34m)\u001b[0m\u001b[0;34m\u001b[0m\u001b[0;34m\u001b[0m\u001b[0m\n\u001b[0m\u001b[1;32m    113\u001b[0m   \u001b[0;32mexcept\u001b[0m \u001b[0mTypeError\u001b[0m\u001b[0;34m:\u001b[0m\u001b[0;34m\u001b[0m\u001b[0;34m\u001b[0m\u001b[0m\n\u001b[1;32m    114\u001b[0m     \u001b[0;31m# TFE_Py_EncodeArg weakrefs arguments it does not recognize, and we expect\u001b[0m\u001b[0;34m\u001b[0m\u001b[0;34m\u001b[0m\u001b[0;34m\u001b[0m\u001b[0m\n",
      "\u001b[0;32m/opt/conda/lib/python3.7/site-packages/tensorflow/python/framework/type_spec.py\u001b[0m in \u001b[0;36m__hash__\u001b[0;34m(self)\u001b[0m\n\u001b[1;32m    300\u001b[0m \u001b[0;34m\u001b[0m\u001b[0m\n\u001b[1;32m    301\u001b[0m   \u001b[0;32mdef\u001b[0m \u001b[0m__hash__\u001b[0m\u001b[0;34m(\u001b[0m\u001b[0mself\u001b[0m\u001b[0;34m)\u001b[0m\u001b[0;34m:\u001b[0m\u001b[0;34m\u001b[0m\u001b[0;34m\u001b[0m\u001b[0m\n\u001b[0;32m--> 302\u001b[0;31m     \u001b[0;32mreturn\u001b[0m \u001b[0mhash\u001b[0m\u001b[0;34m(\u001b[0m\u001b[0mself\u001b[0m\u001b[0;34m.\u001b[0m\u001b[0m__get_cmp_key\u001b[0m\u001b[0;34m(\u001b[0m\u001b[0;34m)\u001b[0m\u001b[0;34m)\u001b[0m\u001b[0;34m\u001b[0m\u001b[0;34m\u001b[0m\u001b[0m\n\u001b[0m\u001b[1;32m    303\u001b[0m \u001b[0;34m\u001b[0m\u001b[0m\n\u001b[1;32m    304\u001b[0m   \u001b[0;32mdef\u001b[0m \u001b[0m__reduce__\u001b[0m\u001b[0;34m(\u001b[0m\u001b[0mself\u001b[0m\u001b[0;34m)\u001b[0m\u001b[0;34m:\u001b[0m\u001b[0;34m\u001b[0m\u001b[0;34m\u001b[0m\u001b[0m\n",
      "\u001b[0;31mKeyboardInterrupt\u001b[0m: "
     ]
    }
   ],
   "source": [
    "# Fitting to the training set\n",
    "\n",
    "class CustomCallback(keras.callbacks.Callback):\n",
    "    \n",
    "    def __init__(self):\n",
    "        self.epoch = 0\n",
    "        \n",
    "    def on_epoch_end(self, epoch, logs=None):\n",
    "        keys = list(logs.keys())\n",
    "        print(\"Epoch: {}             loss: {}\\n\".format(self.epoch, logs['loss']), end=\"\")\n",
    "        self.epoch = epoch\n",
    "\n",
    "    def on_train_batch_end(self, batch, logs=None):\n",
    "        keys = list(logs.keys())\n",
    "        if batch % 100 == 0:\n",
    "            print(\"Epoch: {} batchs: {}% loss: {}\\r\".format(self.epoch, round(batch / self.params['steps'] * 100), logs['loss']), end=\"\")\n",
    "\n",
    "regressor.fit(allTrainingSetsFlattened_Input,allTrainingSetsFlattened_Output,epochs=2,batch_size=128,verbose=0,callbacks=[CustomCallback()])"
   ]
  },
  {
   "cell_type": "code",
   "execution_count": null,
   "metadata": {},
   "outputs": [],
   "source": [
    "dataset_path_test = dm.require('scenes/test.zarr')\n",
    "zarr_dataset_test = ChunkedDataset(dataset_path_test)\n",
    "zarr_dataset_test.open()\n",
    "print(zarr_dataset_test)"
   ]
  },
  {
   "cell_type": "code",
   "execution_count": null,
   "metadata": {},
   "outputs": [],
   "source": [
    "test_mask = np.load('../input/lyft-motion-prediction-autonomous-vehicles/scenes/mask.npz')[\"arr_0\"]\n",
    "print(test_mask)\n",
    "print(test_mask.shape)\n",
    "print(test_mask[0])"
   ]
  },
  {
   "cell_type": "code",
   "execution_count": null,
   "metadata": {},
   "outputs": [],
   "source": [
    "subsetPercent = 1 * 10**-1\n",
    "subsetLength = round(len(test_mask) * subsetPercent)\n",
    "count = 0\n",
    "pb = ProgressBar(subsetLength)\n",
    "pb.start()\n",
    "chunkSize = 10\n",
    "mask_copy = []\n",
    "mask_indexes = []\n",
    "for i in range(0, subsetLength, chunkSize):\n",
    "    chunkedTestMask = test_mask[i: i + chunkSize]\n",
    "    for j in range(0, len(chunkedTestMask)):\n",
    "        mask = chunkedTestMask[j]\n",
    "        mask_copy.append(mask)\n",
    "        if mask:\n",
    "            mask_indexes.append(i + j)\n",
    "            count = count + 1\n",
    "    pb.check(i)\n",
    "pb.end()\n",
    "print(count)"
   ]
  },
  {
   "cell_type": "code",
   "execution_count": null,
   "metadata": {},
   "outputs": [],
   "source": [
    "prev = mask_indexes[0]\n",
    "diffs = []\n",
    "for i in range(1, len(mask_indexes)):\n",
    "    curr = mask_indexes[i]\n",
    "    diff = curr - prev\n",
    "    diffs.append(diff)\n",
    "    prev = curr\n",
    "print(diffs[0:10])"
   ]
  },
  {
   "cell_type": "code",
   "execution_count": null,
   "metadata": {},
   "outputs": [],
   "source": [
    "print(\"max\",np.max(diffs))\n",
    "print(\"min\",np.min(diffs))\n",
    "print(\"median\",np.median(diffs))\n",
    "print(\"mean\",np.mean(diffs))\n",
    "print(\"std\",np.std(diffs), \"\\n\")"
   ]
  },
  {
   "cell_type": "code",
   "execution_count": null,
   "metadata": {},
   "outputs": [],
   "source": [
    "print(len(zarr_dataset_test.agents))"
   ]
  },
  {
   "cell_type": "code",
   "execution_count": null,
   "metadata": {},
   "outputs": [],
   "source": [
    "subsetPercent = 1*10**-1\n",
    "print(subsetPercent)\n",
    "agentsTest = getAgentsChunked(zarr_dataset_test.agents, subsetPercent, 1000, mask_copy)"
   ]
  },
  {
   "cell_type": "code",
   "execution_count": null,
   "metadata": {},
   "outputs": [],
   "source": [
    "plotAgents(agents)"
   ]
  },
  {
   "cell_type": "code",
   "execution_count": null,
   "metadata": {},
   "outputs": [],
   "source": [
    "normalizedAgentsTest = normalizeAgents(agentsTest)"
   ]
  },
  {
   "cell_type": "code",
   "execution_count": null,
   "metadata": {},
   "outputs": [],
   "source": [
    "agentsTestOverLimit = printAgentsInfo(normalizedAgentsTest, limit)"
   ]
  },
  {
   "cell_type": "code",
   "execution_count": null,
   "metadata": {},
   "outputs": [],
   "source": [
    "def getTestingSets(agents, limit):\n",
    "    allTrainingSets = []\n",
    "    totalNumberOfTrainingSets = 0\n",
    "    \n",
    "    pb = ProgressBar(len(agents))\n",
    "    pb.start()\n",
    "    for i in range(0, len(agents)):\n",
    "        agent = agents[i]\n",
    "        agentTrainingSets = []\n",
    "        for i in range(limit, len(agent)-1):\n",
    "            agentTrainingSet = []\n",
    "\n",
    "            start = i - limit\n",
    "            end = i\n",
    "            output = i + 1\n",
    "\n",
    "            agentTrainingSet.append(agent[start:end])\n",
    "            agentTrainingSet.append(agent[output])\n",
    "            agentTrainingSets.append(agentTrainingSet)\n",
    "\n",
    "            totalNumberOfTrainingSets = totalNumberOfTrainingSets + 1\n",
    "\n",
    "        allTrainingSets.append(agentTrainingSets)\n",
    "        pb.check(i)\n",
    "    pb.end()\n",
    "    \n",
    "    print(\"len(allTrainingSets)\", len(allTrainingSets))\n",
    "    print(\"len(allTrainingSets[0])\",len(allTrainingSets[0]), \"\\n\")\n",
    "\n",
    "    print(\"len(agents)\",len(agents))\n",
    "    print(\"len(agents[0]) - limit - 1\",len(agents[0]) - limit - 1, \"\\n\")\n",
    "\n",
    "    print(\"totalNumberOfTrainingSets\",totalNumberOfTrainingSets)\n",
    "    return allTrainingSets, totalNumberOfTrainingSets"
   ]
  },
  {
   "cell_type": "code",
   "execution_count": null,
   "metadata": {},
   "outputs": [],
   "source": [
    "allTestingSets, totalNumberOfTestingSets = getTestingSets(agentsTestOverLimit, limit)"
   ]
  },
  {
   "cell_type": "code",
   "execution_count": null,
   "metadata": {},
   "outputs": [],
   "source": [
    "allTestingSetsFlattened_X, allTestingSetsFlattened_Y = flattenTrainingSets(allTestingSets, totalNumberOfTestingSets)"
   ]
  },
  {
   "cell_type": "code",
   "execution_count": null,
   "metadata": {},
   "outputs": [],
   "source": [
    "allTestingSetsFlattened_Input = allTestingSetsFlattened_X\n",
    "allTestingSetsFlattened_Output = allTestingSetsFlattened_Y"
   ]
  },
  {
   "cell_type": "code",
   "execution_count": null,
   "metadata": {},
   "outputs": [],
   "source": [
    "max = len(allTestingSetsFlattened_Input)\n",
    "print(max)\n",
    "chunkSize = 1000\n",
    "pb = ProgressBar(max)\n",
    "pb.start()\n",
    "predictedTestAgentCentroid = np.empty((1,5))\n",
    "for i in range(0, max-chunkSize, chunkSize):#len(zarr_dataset.agents)):\n",
    "    newPredictions = regressor.predict(allTestingSetsFlattened_Input[i:i+chunkSize])\n",
    "    predictedTestAgentCentroid = np.concatenate((predictedTestAgentCentroid, newPredictions))\n",
    "    pb.check(i, True)"
   ]
  },
  {
   "cell_type": "code",
   "execution_count": null,
   "metadata": {},
   "outputs": [],
   "source": [
    "print(predictedTestAgentCentroid.shape)\n",
    "predictedTestAgentCentroid = predictedTestAgentCentroid[1:len(predictedTestAgentCentroid)]\n",
    "print(predictedTestAgentCentroid.shape)"
   ]
  },
  {
   "cell_type": "code",
   "execution_count": null,
   "metadata": {},
   "outputs": [],
   "source": [
    "randomSamples = 10\n",
    "for i in range(0, len(predictedTestAgentCentroid), round(len(predictedTestAgentCentroid) / randomSamples)):\n",
    "    testSet = allTestingSetsFlattened_Input[i]\n",
    "    lastTestSet = testSet[len(testSet[0]) - 1][0]\n",
    "    firstPrediction = predictedTestAgentCentroid[i][0]\n",
    "    print(lastTestSet)\n",
    "    print(firstPrediction,\"\\n\")"
   ]
  },
  {
   "cell_type": "code",
   "execution_count": null,
   "metadata": {},
   "outputs": [],
   "source": [
    "csv_path = \"submission.csv\"\n",
    "testCSVOutput = np.empty((5,50,2))\n",
    "print(testCSVOutput.shape)"
   ]
  },
  {
   "cell_type": "code",
   "execution_count": null,
   "metadata": {},
   "outputs": [],
   "source": [
    "import os"
   ]
  },
  {
   "cell_type": "code",
   "execution_count": null,
   "metadata": {},
   "outputs": [],
   "source": [
    "if os.path.exists(csv_path):\n",
    "    os.remove(csv_path)"
   ]
  },
  {
   "cell_type": "code",
   "execution_count": null,
   "metadata": {},
   "outputs": [],
   "source": [
    "dummyData = np.empty((10,50,2))"
   ]
  },
  {
   "cell_type": "code",
   "execution_count": null,
   "metadata": {},
   "outputs": [],
   "source": [
    "file = open(csv_path, 'w')\n",
    "\n",
    "def printCoord(row, axis, confidence, timestep):\n",
    "    return row + \"coord_\" + axis + str(confidence) + str(timestep) + \",\"\n",
    "    \n",
    "# timestamp track_id conf_0 conf_1 conf_2\tcoord_x00 coord_y249\n",
    "row = \"\"\n",
    "row = row + \"timestamp\" + \",\"\n",
    "row = row + \"track_id\" + \",\"\n",
    "for i in range(0,3):\n",
    "    row = row + \"conf_\" + str(i) + \",\"\n",
    "for confidence in range(0,3):\n",
    "    for timestep in range(0,50):\n",
    "        row = printCoord(row, \"x\", confidence, timestep)\n",
    "        row = printCoord(row, \"y\", confidence, timestep)\n",
    "row = row + \"\\n\"\n",
    "print(row)\n",
    "file.write(row)"
   ]
  },
  {
   "cell_type": "code",
   "execution_count": null,
   "metadata": {},
   "outputs": [],
   "source": [
    "for i in range(0, len(dummyData)):\n",
    "    idRow = dummyData[i]\n",
    "    row = \"\"\n",
    "    row = str(i)\n",
    "    for future in idRow:\n",
    "        for pos in future:\n",
    "            row = row + str(pos) + \",\"\n",
    "    row = row + \"\\n\"\n",
    "    print(row)\n",
    "    file.write(row)"
   ]
  },
  {
   "cell_type": "code",
   "execution_count": null,
   "metadata": {},
   "outputs": [],
   "source": [
    "file.close()"
   ]
  },
  {
   "cell_type": "code",
   "execution_count": null,
   "metadata": {},
   "outputs": [],
   "source": []
  }
 ],
 "metadata": {
  "kernelspec": {
   "display_name": "Python 3",
   "language": "python",
   "name": "python3"
  },
  "language_info": {
   "codemirror_mode": {
    "name": "ipython",
    "version": 3
   },
   "file_extension": ".py",
   "mimetype": "text/x-python",
   "name": "python",
   "nbconvert_exporter": "python",
   "pygments_lexer": "ipython3",
   "version": "3.7.3"
  }
 },
 "nbformat": 4,
 "nbformat_minor": 4
}
